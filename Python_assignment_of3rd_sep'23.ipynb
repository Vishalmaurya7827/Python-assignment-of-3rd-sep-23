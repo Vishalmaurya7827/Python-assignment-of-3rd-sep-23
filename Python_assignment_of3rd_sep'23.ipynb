{
  "nbformat": 4,
  "nbformat_minor": 0,
  "metadata": {
    "colab": {
      "provenance": []
    },
    "kernelspec": {
      "name": "python3",
      "display_name": "Python 3"
    },
    "language_info": {
      "name": "python"
    }
  },
  "cells": [
    {
      "cell_type": "code",
      "execution_count": null,
      "metadata": {
        "id": "7xB_6ZYB2nFq"
      },
      "outputs": [],
      "source": [
        "#QUE NUMBER 1 #Write a Python program to check if a given number is positive or negative?"
      ]
    },
    {
      "cell_type": "code",
      "source": [
        "number = float(input(\"Enter a number: \"))\n",
        "\n",
        "# Check if the number is positive, negative, or zero\n",
        "if number > 0:\n",
        "    print(\"The number is positive.\")\n",
        "elif number < 0:\n",
        "    print(\"The number is negative.\")\n",
        "else:\n",
        "    print(\"The number is zero.\")\n"
      ],
      "metadata": {
        "colab": {
          "base_uri": "https://localhost:8080/"
        },
        "id": "rIDQ6dbk0lac",
        "outputId": "b6eaa63b-30d7-4bb8-dfce-224fea6ec50a"
      },
      "execution_count": null,
      "outputs": [
        {
          "output_type": "stream",
          "name": "stdout",
          "text": [
            "Enter a number: 4\n",
            "The number is positive.\n"
          ]
        }
      ]
    },
    {
      "cell_type": "code",
      "source": [
        "#Que number 2. Create a program that determines if a person is eligible to vote based on their age?"
      ],
      "metadata": {
        "id": "75z0eS021sUO"
      },
      "execution_count": null,
      "outputs": []
    },
    {
      "cell_type": "code",
      "source": [
        "age = int(input(\"Enter your age: \"))\n",
        "\n",
        "voting_age = 18\n",
        "\n",
        "# Check if the person is eligible to vote\n",
        "if age >= voting_age:\n",
        "    print(\"You are eligible to vote.\")\n",
        "else:\n",
        "    print(\"You are not eligible to vote yet.\")\n"
      ],
      "metadata": {
        "colab": {
          "base_uri": "https://localhost:8080/"
        },
        "id": "NRbQx3ro1_I4",
        "outputId": "540b1005-75c4-4462-fe8b-1f680338f7df"
      },
      "execution_count": null,
      "outputs": [
        {
          "output_type": "stream",
          "name": "stdout",
          "text": [
            "Enter your age: 17\n",
            "You are not eligible to vote yet.\n"
          ]
        }
      ]
    },
    {
      "cell_type": "code",
      "source": [
        "age = int(input(\"Enter your age: \"))\n",
        "\n",
        "voting_age = 18\n",
        "\n",
        "if age >= voting_age:\n",
        "  print(\"You are eligible to vote.\")\n",
        "else:\n",
        "  print(\"Your are not eligible to vote yet.\")"
      ],
      "metadata": {
        "colab": {
          "base_uri": "https://localhost:8080/"
        },
        "id": "4fnvWWwH2Vbk",
        "outputId": "69f1038a-8a6e-4f53-a2f0-37fe515666f6"
      },
      "execution_count": null,
      "outputs": [
        {
          "output_type": "stream",
          "name": "stdout",
          "text": [
            "Enter your age: 21\n",
            "You are eligible to vote.\n"
          ]
        }
      ]
    },
    {
      "cell_type": "code",
      "source": [
        "#Que number 3. Develop a program to find the maximum of two numbers using if-else statements?"
      ],
      "metadata": {
        "id": "57epWLjf2twd"
      },
      "execution_count": null,
      "outputs": []
    },
    {
      "cell_type": "code",
      "source": [
        "\n",
        "num1 = float(input(\"Enter the first number: \"))\n",
        "num2 = float(input(\"Enter the second number: \"))\n",
        "\n",
        "# Compare the two numbers to find the maximum\n",
        "if num1 > num2:\n",
        "    max_num = num1\n",
        "else:\n",
        "    max_num = num2\n",
        "\n",
        "print(\"The maximum number is:\", max_num)\n"
      ],
      "metadata": {
        "colab": {
          "base_uri": "https://localhost:8080/"
        },
        "id": "DFHXYdVl3kTJ",
        "outputId": "5c6cd578-c941-490b-ab52-d1ff0e15a8b6"
      },
      "execution_count": null,
      "outputs": [
        {
          "output_type": "stream",
          "name": "stdout",
          "text": [
            "Enter the first number: 5\n",
            "Enter the second number: 5\n",
            "The maximum number is: 5.0\n"
          ]
        }
      ]
    },
    {
      "cell_type": "code",
      "source": [
        "#Que number 4. Write a Python script to classify a given year as a leap year or not?\n"
      ],
      "metadata": {
        "id": "cXQlsyJ13v6H"
      },
      "execution_count": null,
      "outputs": []
    },
    {
      "cell_type": "code",
      "source": [
        "year = int(input(\"Enter a year: \"))\n",
        "\n",
        "# Check if it's a leap year\n",
        "if (year % 4 == 0 and year % 100 != 0) or (year % 400 == 0):\n",
        "    print(year, \"is a leap year.\")\n",
        "else:\n",
        "    print(year, \"is not a leap year.\")\n"
      ],
      "metadata": {
        "colab": {
          "base_uri": "https://localhost:8080/"
        },
        "id": "5dqn8cd34LAu",
        "outputId": "18fd7b09-c7d7-4158-e68d-c50de13cf374"
      },
      "execution_count": null,
      "outputs": [
        {
          "output_type": "stream",
          "name": "stdout",
          "text": [
            "Enter a year: 30\n",
            "30 is not a leap year.\n"
          ]
        }
      ]
    },
    {
      "cell_type": "code",
      "source": [
        "#Que number 5. Create a program that checks whether a character is a vowel or a consonant?"
      ],
      "metadata": {
        "id": "vKhgG5tu4Uau"
      },
      "execution_count": null,
      "outputs": []
    },
    {
      "cell_type": "code",
      "source": [
        "character = input(\"Enter a character: \")\n",
        "\n",
        "# Convert the input character to lowercase for case-insensitive comparison\n",
        "character = character.lower()\n",
        "\n",
        "# Check if the character is a vowel or a consonant\n",
        "if character.isalpha() and len(character) == 1:\n",
        "    if character in \"aeiou\":\n",
        "        print(character, \"is a vowel.\")\n",
        "    else:\n",
        "        print(character, \"is a consonant.\")\n",
        "else:\n",
        "    print(\"Please enter a valid single character.\")\n"
      ],
      "metadata": {
        "colab": {
          "base_uri": "https://localhost:8080/"
        },
        "id": "vOFAk5Xz4ops",
        "outputId": "e9403b62-69af-4b3d-818a-e76cc13027c5"
      },
      "execution_count": null,
      "outputs": [
        {
          "output_type": "stream",
          "name": "stdout",
          "text": [
            "Enter a character: v\n",
            "v is a consonant.\n"
          ]
        }
      ]
    },
    {
      "cell_type": "code",
      "source": [
        "#Que number 6. Implement a program to determine whether a given number is even or odd.\n"
      ],
      "metadata": {
        "id": "yylM52cx48ed"
      },
      "execution_count": null,
      "outputs": []
    },
    {
      "cell_type": "code",
      "source": [
        "number = int(input(\"Enter a number: \"))\n",
        "\n",
        "# Check if the number is even or odd\n",
        "if number % 4 == 0:\n",
        "    print(number, \"is even.\")\n",
        "else:\n",
        "    print(number, \"is odd.\")\n"
      ],
      "metadata": {
        "colab": {
          "base_uri": "https://localhost:8080/"
        },
        "id": "n_C-HESa5TaI",
        "outputId": "28e4c80b-cbbf-45ac-bbab-b639073de40d"
      },
      "execution_count": null,
      "outputs": [
        {
          "output_type": "stream",
          "name": "stdout",
          "text": [
            "Enter a number: 6\n",
            "6 is odd.\n"
          ]
        }
      ]
    },
    {
      "cell_type": "code",
      "source": [
        "#Que number 7. Write a Python function to calculate the absolute value of a number without using the `abs()` function."
      ],
      "metadata": {
        "id": "-1y7Qzxk5jAa"
      },
      "execution_count": null,
      "outputs": []
    },
    {
      "cell_type": "code",
      "source": [
        "def absolute_value(num):\n",
        "    if num < 0:\n",
        "        return -num\n",
        "    else:\n",
        "        return num\n",
        "\n",
        "# Test the function\n",
        "number = float(input(\"Enter a number: \"))\n",
        "result = absolute_value(number)\n",
        "print(f\"The absolute value of {number} is {result}.\")\n"
      ],
      "metadata": {
        "colab": {
          "base_uri": "https://localhost:8080/"
        },
        "id": "O5iqVanh6A2G",
        "outputId": "bae7c946-8a9b-4117-c7eb-731152cb3150"
      },
      "execution_count": null,
      "outputs": [
        {
          "output_type": "stream",
          "name": "stdout",
          "text": [
            "Enter a number: 34\n",
            "The absolute value of 34.0 is 34.0.\n"
          ]
        }
      ]
    },
    {
      "cell_type": "code",
      "source": [
        "#Que number 8. Develop a program that determines the largest of three given numbers using if-else statements."
      ],
      "metadata": {
        "id": "M04lL3IE6ju2"
      },
      "execution_count": null,
      "outputs": []
    },
    {
      "cell_type": "code",
      "source": [
        "num1 = float(input(\"Enter the first number: \"))\n",
        "num2 = float(input(\"Enter the second number: \"))\n",
        "num3 = float(input(\"Enter the third number: \"))\n",
        "\n",
        "# Initialize a variable to store the largest number\n",
        "largest = num1\n",
        "\n",
        "# Compare num2 and num3 to find the largest number\n",
        "if num2 > largest:\n",
        "    largest = num2\n",
        "if num3 > largest:\n",
        "    largest = num3\n",
        "\n",
        "print(\"The largest number is:\", largest)\n"
      ],
      "metadata": {
        "colab": {
          "base_uri": "https://localhost:8080/"
        },
        "id": "W6ExxQeZ8Hv_",
        "outputId": "072f648a-e7ce-4f0d-8737-a5c4a6526ff3"
      },
      "execution_count": null,
      "outputs": [
        {
          "output_type": "stream",
          "name": "stdout",
          "text": [
            "Enter the first number: 7\n",
            "Enter the second number: 3455\n",
            "Enter the third number: 85643\n",
            "The largest number is: 85643.0\n"
          ]
        }
      ]
    },
    {
      "cell_type": "code",
      "source": [
        "#Que number 9. Create a program that checks if a given string is a palindrome."
      ],
      "metadata": {
        "id": "1lLa0sbH9DN-"
      },
      "execution_count": null,
      "outputs": []
    },
    {
      "cell_type": "code",
      "source": [
        "input_string = input(\"Enter a string: \")\n",
        "\n",
        "# Remove spaces and convert the string to lowercase\n",
        "cleaned_string = input_string.replace(\" \", \"\").lower()\n",
        "\n",
        "if cleaned_string == cleaned_string[::-1]:\n",
        "    print(\"The entered string is a palindrome.\")\n",
        "else:\n",
        "    print(\"The entered string is not a palindrome.\")\n"
      ],
      "metadata": {
        "colab": {
          "base_uri": "https://localhost:8080/"
        },
        "id": "PBvVXJhK9TdU",
        "outputId": "af0553f7-25bd-4159-d5dd-326e5539faf2"
      },
      "execution_count": null,
      "outputs": [
        {
          "output_type": "stream",
          "name": "stdout",
          "text": [
            "Enter a string: vishal\n",
            "The entered string is not a palindrome.\n",
            "Enter a string: civic\n",
            "The entered string is a palindrome.\n"
          ]
        }
      ]
    },
    {
      "cell_type": "code",
      "source": [
        "#Que number 10. Write a Python program to calculate the grade based on a student's score."
      ],
      "metadata": {
        "id": "ypusiP95-E48"
      },
      "execution_count": null,
      "outputs": []
    },
    {
      "cell_type": "code",
      "source": [
        "score = float(input(\"Enter the student's score: \"))\n",
        "\n",
        "# Define the grade thresholds\n",
        "A_grade = 80\n",
        "B_grade = 90\n",
        "C_grade = 50\n",
        "D_grade = 60\n",
        "\n",
        "# Determine the grade based on the score\n",
        "if score >= A_grade:\n",
        "    grade = \"A\"\n",
        "elif score >= B_grade:\n",
        "    grade = \"B\"\n",
        "elif score >= C_grade:\n",
        "    grade = \"C\"\n",
        "elif score >= D_grade:\n",
        "    grade = \"D\"\n",
        "else:\n",
        "    grade = \"F\"\n",
        "\n",
        "# Print the calculated grade\n",
        "print(f\"The student's grade is: {grade}\")\n"
      ],
      "metadata": {
        "colab": {
          "base_uri": "https://localhost:8080/"
        },
        "id": "z8Gl0DOb_eTI",
        "outputId": "9f4871db-c7c2-4705-815b-7a8526936bbd"
      },
      "execution_count": null,
      "outputs": [
        {
          "output_type": "stream",
          "name": "stdout",
          "text": [
            "Enter the student's score: 70\n",
            "The student's grade is: C\n"
          ]
        }
      ]
    },
    {
      "cell_type": "code",
      "source": [
        "#Que number 11. Write a program to find the largest among three numbers using nested if-else statements."
      ],
      "metadata": {
        "id": "RJug39Cz_n5l"
      },
      "execution_count": null,
      "outputs": []
    },
    {
      "cell_type": "code",
      "source": [
        "num1 = float(input(\"Enter the first number: \"))\n",
        "num2 = float(input(\"Enter the second number: \"))\n",
        "num3 = float(input(\"Enter the third number: \"))\n",
        "\n",
        "# Initialize a variable to store the largest number\n",
        "largest = num1\n",
        "\n",
        "# Use nested if-else statements to find the largest number\n",
        "if num2 > largest:\n",
        "    largest = num2\n",
        "if num3 > largest:\n",
        "    largest = num3\n",
        "\n",
        "print(\"The largest number is:\", largest)\n"
      ],
      "metadata": {
        "colab": {
          "base_uri": "https://localhost:8080/"
        },
        "id": "qUwJO91BAF1N",
        "outputId": "d7f5027e-1e8d-49a5-d18b-d37957249bc8"
      },
      "execution_count": null,
      "outputs": [
        {
          "output_type": "stream",
          "name": "stdout",
          "text": [
            "Enter the first number: 23445\n",
            "Enter the second number: 53215\n",
            "Enter the third number: 1111111\n",
            "The largest number is: 1111111.0\n"
          ]
        }
      ]
    },
    {
      "cell_type": "code",
      "source": [
        "#Que number 12. Implement a program to determine if a triangle is equilateral, isosceles, or scalene."
      ],
      "metadata": {
        "id": "pPJQRHYuAakN"
      },
      "execution_count": null,
      "outputs": []
    },
    {
      "cell_type": "code",
      "source": [
        "side1 = float(input(\"Enter the length of the first side: \"))\n",
        "side2 = float(input(\"Enter the length of the second side: \"))\n",
        "side3 = float(input(\"Enter the length of the third side: \"))\n",
        "\n",
        "# Check if it's a valid triangle (Triangle Inequality Theorem)\n",
        "if side1 + side2 > side3 and side1 + side3 > side2 and side2 + side3 > side1:\n",
        "    # Check the type of triangle\n",
        "    if side1 == side2 == side3:\n",
        "        print(\"It's an equilateral triangle.\")\n",
        "    elif side1 == side2 or side1 == side3 or side2 == side3:\n",
        "        print(\"It's an isosceles triangle.\")\n",
        "    else:\n",
        "        print(\"It's a scalene triangle.\")\n",
        "else:\n",
        "    print(\"It's not a valid triangle.\")\n"
      ],
      "metadata": {
        "colab": {
          "base_uri": "https://localhost:8080/"
        },
        "id": "dvCkTMG1AryA",
        "outputId": "da65b0c0-67d2-45a5-88db-2777ee88411b"
      },
      "execution_count": null,
      "outputs": [
        {
          "output_type": "stream",
          "name": "stdout",
          "text": [
            "Enter the length of the first side: 1\n",
            "Enter the length of the second side: 2\n",
            "Enter the length of the third side: 3\n",
            "It's not a valid triangle.\n"
          ]
        }
      ]
    },
    {
      "cell_type": "code",
      "source": [
        "#Que number 13. Develop a program that checks if a year is a leap year and also if it is a century year."
      ],
      "metadata": {
        "id": "P6ASlwtIA2Wc"
      },
      "execution_count": null,
      "outputs": []
    },
    {
      "cell_type": "code",
      "source": [
        "year = int(input(\"Enter a year: \"))\n",
        "\n",
        "# Check if it's a leap year\n",
        "is_leap_year = False\n",
        "if (year % 4 == 0 and year % 100 != 0) or (year % 400 == 0):\n",
        "    is_leap_year = True\n",
        "\n",
        "# Check if it's a century year\n",
        "is_century_year = year % 100 == 0\n",
        "\n",
        "\n",
        "if is_leap_year and is_century_year:\n",
        "    print(year, \"is a leap year and a century year.\")\n",
        "elif is_leap_year:\n",
        "    print(year, \"is a leap year but not a century year.\")\n",
        "elif is_century_year:\n",
        "    print(year, \"is a century year but not a leap year.\")\n",
        "else:\n",
        "    print(year, \"is neither a leap year nor a century year.\")\n"
      ],
      "metadata": {
        "colab": {
          "base_uri": "https://localhost:8080/"
        },
        "id": "1R363HYuCpZE",
        "outputId": "dc95c625-006c-4894-8a63-f94a286ab93e"
      },
      "execution_count": null,
      "outputs": [
        {
          "output_type": "stream",
          "name": "stdout",
          "text": [
            "Enter a year: 2020\n",
            "2020 is a leap year but not a century year.\n"
          ]
        }
      ]
    },
    {
      "cell_type": "code",
      "source": [
        "#Que number 14. Write a Python script to determine if a number is positive, negative, or zero.\n",
        "\n",
        "\n",
        "number = float(input(\"Enter a number: \"))\n",
        "\n",
        "# Check if the number is positive, negative, or zero\n",
        "if number > 0:\n",
        "    print(\"The number is positive.\")\n",
        "elif number < 0:\n",
        "    print(\"The number is negative.\")\n",
        "else:\n",
        "    print(\"The number is zero.\")\n"
      ],
      "metadata": {
        "colab": {
          "base_uri": "https://localhost:8080/"
        },
        "id": "WSfqeQdfC3TW",
        "outputId": "71bad80d-875d-42c3-df25-c18be84ab22c"
      },
      "execution_count": null,
      "outputs": [
        {
          "output_type": "stream",
          "name": "stdout",
          "text": [
            "Enter a number: 4\n",
            "The number is positive.\n"
          ]
        }
      ]
    },
    {
      "cell_type": "code",
      "source": [
        "#Que number 15. Create a program to check if a person is a teenager (between 13 and 19 years old)."
      ],
      "metadata": {
        "id": "61XMcVqmDXBj"
      },
      "execution_count": null,
      "outputs": []
    },
    {
      "cell_type": "code",
      "source": [
        "# Get the age from the user\n",
        "age = int(input(\"Enter your age: \"))\n",
        "\n",
        "# Check if the age is within the teenager range (13-19)\n",
        "if 13 <= age <= 19:\n",
        "    print(\"You are a teenager!\")\n",
        "else:\n",
        "    print(\"You are not a teenager.\")\n"
      ],
      "metadata": {
        "id": "Hj1dQalAFUo1",
        "colab": {
          "base_uri": "https://localhost:8080/"
        },
        "outputId": "b2ae406b-ec58-486e-8bcd-8c12cb25b875"
      },
      "execution_count": null,
      "outputs": [
        {
          "output_type": "stream",
          "name": "stdout",
          "text": [
            "Enter your age: 18\n",
            "You are a teenager!\n"
          ]
        }
      ]
    },
    {
      "cell_type": "code",
      "source": [
        "#Que number 16 3Develop a program that determines the type of angle based on its measure (acute, obtuse, or right).\n",
        "def angle_type(angle):\n",
        "    if angle < 90:\n",
        "        return \"Acute Angle\"\n",
        "    elif angle == 90:\n",
        "        return \"Right Angle\"\n",
        "    elif angle < 180:\n",
        "        return \"Obtuse Angle\"\n",
        "    else:\n",
        "        return \"Invalid Angle\"\n",
        "\n",
        "# Input angle measure from the user\n",
        "try:\n",
        "    angle_measure = float(input(\"Enter the angle measure in degrees: \"))\n",
        "\n",
        "    # Call the function to determine the type of angle\n",
        "    result = angle_type(angle_measure)\n",
        "\n",
        "    print(f\"The angle with measure {angle_measure} degrees is a {result}.\")\n",
        "except ValueError:\n",
        "    print(\"Invalid input. Please enter a valid angle measure as a number.\")\n"
      ],
      "metadata": {
        "colab": {
          "base_uri": "https://localhost:8080/"
        },
        "id": "HdINbvLGBfNW",
        "outputId": "0c9bd4cc-9eaa-4a00-83cc-c66a8f37d0e8"
      },
      "execution_count": null,
      "outputs": [
        {
          "output_type": "stream",
          "name": "stdout",
          "text": [
            "Enter the angle measure in degrees: 50\n",
            "The angle with measure 50.0 degrees is a Acute Angle.\n"
          ]
        }
      ]
    },
    {
      "cell_type": "code",
      "source": [
        "#Que number 17. Write a Python program to calculate the roots of a quadratic equation."
      ],
      "metadata": {
        "id": "ftAC5FtOCJhW"
      },
      "execution_count": null,
      "outputs": []
    },
    {
      "cell_type": "code",
      "source": [
        "import math\n",
        "\n",
        "# Function to calculate the roots of a quadratic equation\n",
        "def quadratic_roots(a, b, c):\n",
        "    # Calculate the discriminant\n",
        "    discriminant = b**2 - 4*a*c\n",
        "\n",
        "    # Check the discriminant for the type of roots\n",
        "    if discriminant > 0:\n",
        "        # Two distinct real roots\n",
        "        root1 = (-b + math.sqrt(discriminant)) / (2*a)\n",
        "        root2 = (-b - math.sqrt(discriminant)) / (2*a)\n",
        "        return root1, root2\n",
        "    elif discriminant == 0:\n",
        "        # One real root (a repeated root)\n",
        "        root = -b / (2*a)\n",
        "        return root,\n",
        "    else:\n",
        "        # Complex roots\n",
        "        real_part = -b / (2*a)\n",
        "        imaginary_part = math.sqrt(abs(discriminant)) / (2*a)\n",
        "        return complex(real_part, imaginary_part), complex(real_part, -imaginary_part)\n",
        "\n",
        "# Input coefficients from the user\n",
        "try:\n",
        "    a = float(input(\"Enter the coefficient a: \"))\n",
        "    b = float(input(\"Enter the coefficient b: \"))\n",
        "    c = float(input(\"Enter the coefficient c:\"))\n",
        "\n",
        "    # Call the function to calculate roots\n",
        "    roots = quadratic_roots(a, b, c)\n",
        "\n",
        "    # Print the roots\n",
        "    if len(roots) == 2:\n",
        "        root1, root2 = roots\n",
        "        print(f\"The roots are: {root1} and {root2}\")\n",
        "    elif len(roots) == 1:\n",
        "        root = roots[0]\n",
        "        print(f\"The root is: {root}\")\n",
        "    else:\n",
        "        root1, root2 = roots\n",
        "        print(f\"The roots are complex: {root1} and {root2}\")\n",
        "except ValueError:\n",
        "    print(\"Invalid input. Please enter valid coefficients as numbers.\")\n"
      ],
      "metadata": {
        "colab": {
          "base_uri": "https://localhost:8080/"
        },
        "id": "0WaoPHkrDfTW",
        "outputId": "6d9a9bcb-31dc-40be-b790-eb8ae6ef6929"
      },
      "execution_count": null,
      "outputs": [
        {
          "output_type": "stream",
          "name": "stdout",
          "text": [
            "Enter the coefficient a: 3\n",
            "Enter the coefficient b: 5\n",
            "Enter the coefficient c:9\n",
            "The roots are: (-0.8333333333333334+1.51840559652405j) and (-0.8333333333333334-1.51840559652405j)\n"
          ]
        }
      ]
    },
    {
      "cell_type": "code",
      "source": [
        "#Que number #18. Implement a program to determine the day of the week based on a user-provided number (1 for Monday, 2 for Tuesday, etc.)."
      ],
      "metadata": {
        "id": "FlbhF91iDlWB"
      },
      "execution_count": null,
      "outputs": []
    },
    {
      "cell_type": "code",
      "source": [
        "def get_day_of_week(number):\n",
        "    days = [\"Monday\", \"Tuesday\", \"Wednesday\", \"Thursday\", \"Friday\", \"Saturday\", \"Sunday\"]\n",
        "\n",
        "    if number >= 1 and number <= 7:\n",
        "        return days[number - 1]\n",
        "    else:\n",
        "        return \"Invalid input\"\n",
        "\n",
        "# Input day number from the user\n",
        "try:\n",
        "    day_number = int(input(\"Enter a number (1 for Monday, 2 for Tuesday, etc.): \"))\n",
        "\n",
        "    # Call the function to determine the day of the week\n",
        "    result = get_day_of_week(day_number)\n",
        "\n",
        "\n",
        "    print(f\"The day corresponding to {day_number} is {result}.\")\n",
        "except ValueError:\n",
        "    print(\"Invalid input. Please enter a valid number between 1 and 7.\")\n"
      ],
      "metadata": {
        "colab": {
          "base_uri": "https://localhost:8080/"
        },
        "id": "tKct8crNEW3f",
        "outputId": "b216a22d-e340-4c17-c0a5-b4e013c51674"
      },
      "execution_count": null,
      "outputs": [
        {
          "output_type": "stream",
          "name": "stdout",
          "text": [
            "Enter a number (1 for Monday, 2 for Tuesday, etc.): 5\n",
            "The day corresponding to 5 is Friday.\n"
          ]
        }
      ]
    },
    {
      "cell_type": "code",
      "source": [
        "#Que number 19. Create a program that determines if a year is a leap year and also if it is evenly divisible by 400."
      ],
      "metadata": {
        "id": "M8NNbFneEeK3"
      },
      "execution_count": null,
      "outputs": []
    },
    {
      "cell_type": "code",
      "source": [
        "def is_leap_year(year):\n",
        "    if (year % 5 == 0 and year % 100 != 0) or (year % 400 == 0):\n",
        "        return True\n",
        "    else:\n",
        "        return False\n",
        "\n",
        "# Input year from the user\n",
        "try:\n",
        "    year = int(input(\"Enter a year: \"))\n",
        "\n",
        "    # Call the function to check if it's a leap year\n",
        "    if is_leap_year(year):\n",
        "        print(f\"{year} is a leap year.\")\n",
        "    else:\n",
        "        print(f\"{year} is not a leap year.\")\n",
        "except ValueError:\n",
        "    print(\"Invalid input. Please enter a valid year as a number.\")\n"
      ],
      "metadata": {
        "colab": {
          "base_uri": "https://localhost:8080/"
        },
        "id": "Ydv51do3E7YW",
        "outputId": "8e1ed02b-fa1f-4e5a-c6b3-e857b0b6d228"
      },
      "execution_count": null,
      "outputs": [
        {
          "output_type": "stream",
          "name": "stdout",
          "text": [
            "Enter a year: 5\n",
            "5 is a leap year.\n"
          ]
        }
      ]
    },
    {
      "cell_type": "code",
      "source": [
        "#Que number 20. Develop a program that checks if a given number is prime or not using nested if-else statements."
      ],
      "metadata": {
        "id": "HNXQ15_wFfO4"
      },
      "execution_count": null,
      "outputs": []
    },
    {
      "cell_type": "code",
      "source": [
        "def is_prime(number):\n",
        "    if number <= 1:\n",
        "        return False\n",
        "    elif number <= 3:\n",
        "        return True\n",
        "    elif number % 2 == 0 or number % 3 == 0:\n",
        "        return False\n",
        "    else:\n",
        "        i = 5\n",
        "        while i * i <= number:\n",
        "            if number % i == 0 or number % (i + 2) == 0:\n",
        "                return False\n",
        "            i += 6\n",
        "        return True\n",
        "try:\n",
        "    num = int(input(\"Enter a number to check if it's prime: \"))\n",
        "\n",
        "\n",
        "    if is_prime(num):\n",
        "        print(f\"{num} is a prime number.\")\n",
        "    else:\n",
        "        print(f\"{num} is not a prime number.\")\n",
        "except ValueError:\n",
        "    print(\"Invalid input. Please enter a valid number.\")\n"
      ],
      "metadata": {
        "colab": {
          "base_uri": "https://localhost:8080/"
        },
        "id": "E4I4xlF6Ga-g",
        "outputId": "ab67df4d-ae7a-4d81-fd3f-1a2c59ab9650"
      },
      "execution_count": null,
      "outputs": [
        {
          "output_type": "stream",
          "name": "stdout",
          "text": [
            "Enter a number to check if it's prime: 3\n",
            "3 is a prime number.\n"
          ]
        }
      ]
    },
    {
      "cell_type": "code",
      "source": [
        "#Que number 21. Write a Python program to assign grades based on different ranges of scores using elif statements."
      ],
      "metadata": {
        "id": "1oEuC1xGGoZv"
      },
      "execution_count": null,
      "outputs": []
    },
    {
      "cell_type": "code",
      "source": [
        "# Function to assign grades based on scores\n",
        "def assign_grade(score):\n",
        "    if score >= 90:\n",
        "        return \"A\"\n",
        "    elif score >= 80:\n",
        "        return \"B\"\n",
        "    elif score >= 70:\n",
        "        return \"C\"\n",
        "    elif score >= 60:\n",
        "        return \"D\"\n",
        "    else:\n",
        "        return \"F\"\n",
        "\n",
        "# Input the score from the user\n",
        "try:\n",
        "    score = float(input(\"Enter the score: \"))\n",
        "\n",
        "    # Call the function to assign a grade\n",
        "    grade = assign_grade(score)\n",
        "\n",
        "    print(f\"The grade for the score {score} is: {grade}\")\n",
        "except ValueError:\n",
        "    print(\"Invalid input. Please enter a valid numeric score.\")\n"
      ],
      "metadata": {
        "colab": {
          "base_uri": "https://localhost:8080/"
        },
        "id": "Be-i3qLiHuH7",
        "outputId": "059f8673-6702-44ae-fb96-3e62c9620c36"
      },
      "execution_count": null,
      "outputs": [
        {
          "output_type": "stream",
          "name": "stdout",
          "text": [
            "Enter the score: 85\n",
            "The grade for the score 85.0 is: B\n"
          ]
        }
      ]
    },
    {
      "cell_type": "code",
      "source": [
        "#Que number 22. Implement a program to determine the type of a triangle based on its angles.\n",
        "\n",
        "\n",
        "# Function to determine the type of a triangle based on its angles\n",
        "def triangle_type(angle1, angle2, angle3):\n",
        "    if angle1 == 60 and angle2 == 60 and angle3 == 60:\n",
        "        return \"Equilateral Triangle\"\n",
        "    elif angle1 == angle2 or angle1 == angle3 or angle2 == angle3:\n",
        "        return \"Isosceles Triangle\"\n",
        "    else:\n",
        "        return \"Scalene Triangle\"\n",
        "\n",
        "# Input angles from the user\n",
        "try:\n",
        "    angle1 = int(input(\"Enter the first angle of the triangle: \"))\n",
        "    angle2 = int(input(\"Enter the second angle of the triangle: \"))\n",
        "    angle3 = int(input(\"Enter the third angle of the triangle: \"))\n",
        "\n",
        "    # Check if the angles form a valid triangle\n",
        "    if angle1 + angle2 + angle3 == 180:\n",
        "        # Call the function to determine the type of triangle\n",
        "        result = triangle_type(angle1, angle2, angle3)\n",
        "        print(f\"The triangle with angles {angle1}, {angle2}, and {angle3} is a {result}.\")\n",
        "    else:\n",
        "        print(\"The angles do not form a valid triangle.\")\n",
        "except ValueError:\n",
        "    print(\"Invalid input. Please enter valid angles as numbers.\")\n"
      ],
      "metadata": {
        "colab": {
          "base_uri": "https://localhost:8080/"
        },
        "id": "YzIbZQmsJS-z",
        "outputId": "1c6efbc5-aa36-4dfc-f84f-2af6357fd140"
      },
      "execution_count": null,
      "outputs": [
        {
          "output_type": "stream",
          "name": "stdout",
          "text": [
            "Enter the first angle of the triangle: 60\n",
            "Enter the second angle of the triangle: 60\n",
            "Enter the third angle of the triangle: 60\n",
            "The triangle with angles 60, 60, and 60 is a Equilateral Triangle.\n"
          ]
        }
      ]
    },
    {
      "cell_type": "code",
      "source": [
        "#Que number 23. Develop a program to categorize a given person's BMI into underweight, normal, overweight, or obese using elif statements."
      ],
      "metadata": {
        "id": "PYuDstsDJnUN"
      },
      "execution_count": null,
      "outputs": []
    },
    {
      "cell_type": "code",
      "source": [
        "def categorize_bmi(bmi):\n",
        "    if bmi < 18.5:\n",
        "        return \"Underweight\"\n",
        "    elif 18.5 <= bmi < 24.9:\n",
        "        return \"Normal Weight\"\n",
        "    elif 25 <= bmi < 29.9:\n",
        "        return \"Overweight\"\n",
        "    else:\n",
        "        return \"Obese\"\n",
        "\n",
        "# Input height (in meters) and weight (in kilograms) from the user\n",
        "try:\n",
        "    height = float(input(\"Enter your height (in meters): \"))\n",
        "    weight = float(input(\"Enter your weight (in kilograms): \"))\n",
        "\n",
        "    # Calculate BMI\n",
        "    bmi = weight / (height ** 2)\n",
        "\n",
        "    category = categorize_bmi(bmi)\n",
        "\n",
        "    print(f\"Your BMI is {bmi:.2f}, which falls into the category of {category}.\")\n",
        "except ValueError:\n",
        "    print(\"Invalid input. Please enter valid height and weight as numbers.\")\n"
      ],
      "metadata": {
        "colab": {
          "base_uri": "https://localhost:8080/"
        },
        "id": "GVEcQCEZKFKO",
        "outputId": "e73025f8-3170-4828-acbe-7ae4b5e44794"
      },
      "execution_count": null,
      "outputs": [
        {
          "output_type": "stream",
          "name": "stdout",
          "text": [
            "Enter your height (in meters): 72\n",
            "Enter your weight (in kilograms): 18\n",
            "Your BMI is 0.00, which falls into the category of Underweight.\n"
          ]
        }
      ]
    },
    {
      "cell_type": "code",
      "source": [
        "#Que number 25. Write a Python script to determine the type of a character (uppercase, lowercase, or special) using elif statements."
      ],
      "metadata": {
        "id": "x8cHuNPPK-Dl"
      },
      "execution_count": null,
      "outputs": []
    },
    {
      "cell_type": "code",
      "source": [
        "# Input a character from the user\n",
        "try:\n",
        "    char = input(\"Enter a character: \")\n",
        "\n",
        "    # Check if the input is a single character\n",
        "    if len(char) == 1:\n",
        "        # Check if it's an uppercase letter\n",
        "        if char.isupper():\n",
        "            print(f\"The character '{char}' is uppercase.\")\n",
        "        # Check if it's a lowercase letter\n",
        "        elif char.islower():\n",
        "            print(f\"The character '{char}' is lowercase.\")\n",
        "        # Check if it's a special character\n",
        "        else:\n",
        "            print(f\"The character '{char}' is special.\")\n",
        "    else:\n",
        "        print(\"Invalid input. Please enter a single character.\")\n",
        "except ValueError:\n",
        "    print(\"Invalid input. Please enter a valid character.\")\n"
      ],
      "metadata": {
        "colab": {
          "base_uri": "https://localhost:8080/"
        },
        "id": "24oa8C99LWkT",
        "outputId": "1726fb23-c695-425f-e2dc-8a421d86cbdc"
      },
      "execution_count": null,
      "outputs": [
        {
          "output_type": "stream",
          "name": "stdout",
          "text": [
            "Enter a character: V\n",
            "The character 'V' is uppercase.\n",
            "Enter a character: u\n",
            "The character 'u' is lowercase.\n"
          ]
        }
      ]
    },
    {
      "cell_type": "code",
      "source": [
        "#Que number 26. Implement a program to calculate the discounted price based on different purchase amounts using elif statements."
      ],
      "metadata": {
        "id": "J41TWH30LydI"
      },
      "execution_count": null,
      "outputs": []
    },
    {
      "cell_type": "code",
      "source": [
        "def calculate_discounted_price(amount):\n",
        "    if amount < 100:\n",
        "        discount = 0\n",
        "    elif amount < 500:\n",
        "        discount = 0.05  # 5% discount for amounts between 100 and 499\n",
        "    elif amount < 1000:\n",
        "        discount = 0.1   # 10% discount for amounts between 500 and 999\n",
        "    else:\n",
        "        discount = 0.15  # 15% discount for amounts of 1000 or more\n",
        "\n",
        "    discounted_price = amount * (1 - discount)\n",
        "    return discounted_price\n",
        "\n",
        "# Input the purchase amount from the user\n",
        "try:\n",
        "    purchase_amount = float(input(\"Enter the purchase amount: \"))\n",
        "\n",
        "    # Call the function to calculate the discounted price\n",
        "    discounted_price = calculate_discounted_price(purchase_amount)\n",
        "\n",
        "    print(f\"The discounted price for ${purchase_amount:.2f} is ${discounted_price:.2f}.\")\n",
        "except ValueError:\n",
        "    print(\"Invalid input. Please enter a valid numeric amount.\")\n"
      ],
      "metadata": {
        "colab": {
          "base_uri": "https://localhost:8080/"
        },
        "id": "X-aMAbPbMjjM",
        "outputId": "95cbf38d-23a5-4a32-a1b5-689fd2c92784"
      },
      "execution_count": null,
      "outputs": [
        {
          "output_type": "stream",
          "name": "stdout",
          "text": [
            "Enter the purchase amount: 2045\n",
            "The discounted price for $2045.00 is $1738.25.\n"
          ]
        }
      ]
    },
    {
      "cell_type": "code",
      "source": [
        "#Que number 27. Develop a program to calculate the electricity bill based on different consumption slabs using elif statements."
      ],
      "metadata": {
        "id": "tl4PkfXBMrci"
      },
      "execution_count": null,
      "outputs": []
    },
    {
      "cell_type": "code",
      "source": [
        "def calculate_electricity_bill(units):\n",
        "    if units <= 50:\n",
        "        bill = units * 0.50\n",
        "    elif units <= 100:\n",
        "        bill = (50 * 0.50) + ((units - 50) * 0.75)\n",
        "    elif units <= 200:\n",
        "        bill = (50 * 0.50) + (50 * 0.75) + ((units - 100) * 1.20)\n",
        "    else:\n",
        "        bill = (50 * 0.50) + (50 * 0.75) + (100 * 1.20) + ((units - 200) * 1.50)\n",
        "\n",
        "    return bill\n",
        "\n",
        "# Input the electricity consumption in units from the user\n",
        "try:\n",
        "    consumption = float(input(\"Enter the electricity consumption in units: \"))\n",
        "\n",
        "\n",
        "    bill_amount = calculate_electricity_bill(consumption)\n",
        "\n",
        "    print(f\"The electricity bill for {consumption} units is ${bill_amount:.2f}.\")\n",
        "except ValueError:\n",
        "    print(\"Invalid input. Please enter a valid numeric consumption value.\")\n"
      ],
      "metadata": {
        "colab": {
          "base_uri": "https://localhost:8080/"
        },
        "id": "oTZpo7SCM9Z8",
        "outputId": "a0dceee1-b411-41c3-c57f-b62e415b282e"
      },
      "execution_count": null,
      "outputs": [
        {
          "output_type": "stream",
          "name": "stdout",
          "text": [
            "Enter the electricity consumption in units: 56\n",
            "The electricity bill for 56.0 units is $29.50.\n"
          ]
        }
      ]
    },
    {
      "cell_type": "code",
      "source": [
        "#Que number 28. Create a program to determine the type of quadrilateral based on its angles and sides using elif statements."
      ],
      "metadata": {
        "id": "LB94bf24NWWK"
      },
      "execution_count": null,
      "outputs": []
    },
    {
      "cell_type": "code",
      "source": [
        "def determine_quadrilateral_type(sides, angles):\n",
        "    num_sides = len(sides)\n",
        "\n",
        "    if num_sides != 4 or len(angles) != 4:\n",
        "        return \"Invalid Quadrilateral\"\n",
        "\n",
        "    if all(angle == 90 for angle in angles):\n",
        "        if all(side == sides[0] for side in sides):\n",
        "            return \"Square\"\n",
        "        elif sides[0] == sides[2] and sides[1] == sides[3]:\n",
        "            return \"Rectangle\"\n",
        "        else:\n",
        "            return \"Parallelogram\"\n",
        "    elif all(angle == 60 for angle in angles):\n",
        "        if all(side == sides[0] for side in sides):\n",
        "            return \"Rhombus\"\n",
        "        else:\n",
        "            return \"Kite\"\n",
        "    else:\n",
        "        return \"General Quadrilateral\"\n",
        "\n",
        "try:\n",
        "    sides = []\n",
        "    angles = []\n",
        "\n",
        "    for i in range(4):\n",
        "        side = float(input(f\"Enter the length of side {i+1}: \"))\n",
        "        angle = float(input(f\"Enter the measure of angle {i+1}: \"))\n",
        "        sides.append(side)\n",
        "        angles.append(angle)\n",
        "\n",
        "    # Call the function to determine the type of quadrilateral\n",
        "    quadrilateral_type = determine_quadrilateral_type(sides, angles)\n",
        "\n",
        "    print(f\"The quadrilateral with sides {sides} and angles {angles} is a {quadrilateral_type}.\")\n",
        "except ValueError:\n",
        "    print(\"Invalid input. Please enter valid side lengths and angle measures as numbers.\")\n"
      ],
      "metadata": {
        "colab": {
          "base_uri": "https://localhost:8080/"
        },
        "id": "-HZKSw0hNmA1",
        "outputId": "da033e84-f38a-4e34-b8fc-f1f0294b484f"
      },
      "execution_count": null,
      "outputs": [
        {
          "output_type": "stream",
          "name": "stdout",
          "text": [
            "Enter the length of side 1: 24\n",
            "Enter the measure of angle 1: 3\n",
            "Enter the length of side 2: 4\n",
            "Enter the measure of angle 2: 5\n",
            "Enter the length of side 3: 6\n",
            "Enter the measure of angle 3: 2\n",
            "Enter the length of side 4: 5\n",
            "Enter the measure of angle 4: 6\n",
            "The quadrilateral with sides [24.0, 4.0, 6.0, 5.0] and angles [3.0, 5.0, 2.0, 6.0] is a General Quadrilateral.\n"
          ]
        }
      ]
    },
    {
      "cell_type": "code",
      "source": [
        "#Que number 29. Write a Python script to determine the season based on a user-provided month using elif statements."
      ],
      "metadata": {
        "id": "i_6p5JonNw75"
      },
      "execution_count": null,
      "outputs": []
    },
    {
      "cell_type": "code",
      "source": [
        "# Function to determine the season\n",
        "def determine_season(month):\n",
        "    if month in [12, 1, 2]:\n",
        "        return \"Winter\"\n",
        "    elif month in [3, 4, 5]:\n",
        "        return \"Spring\"\n",
        "    elif month in [6, 7, 8]:\n",
        "        return \"Summer\"\n",
        "    elif month in [9, 10, 11]:\n",
        "        return \"Autumn\"\n",
        "    else:\n",
        "        return \"Invalid Month\"\n",
        "\n",
        "# Input month from the user\n",
        "try:\n",
        "    month = int(input(\"Enter a month (1-12): \"))\n",
        "\n",
        "    # Call the function to determine the season\n",
        "    season = determine_season(month)\n",
        "\n",
        "    # Print the season\n",
        "    if season != \"Invalid Month\":\n",
        "        print(f\"The season for month {month} is {season}.\")\n",
        "    else:\n",
        "        print(\"Invalid input. Please enter a valid month (1-12).\")\n",
        "except ValueError:\n",
        "    print(\"Invalid input. Please enter a valid numeric month (1-12).\")\n"
      ],
      "metadata": {
        "colab": {
          "base_uri": "https://localhost:8080/"
        },
        "id": "iGNnxK62ONcP",
        "outputId": "b48a827e-115c-4d77-c944-5fb2d0d7a8c2"
      },
      "execution_count": null,
      "outputs": [
        {
          "output_type": "stream",
          "name": "stdout",
          "text": [
            "Enter a month (1-12): 9\n",
            "The season for month 9 is Autumn.\n"
          ]
        }
      ]
    },
    {
      "cell_type": "code",
      "source": [
        "#Que number 30. Implement a program to determine the type of a year (leap or common) and month (30 or 31 days) using elif statements."
      ],
      "metadata": {
        "id": "TR3K5pd-Oluu"
      },
      "execution_count": null,
      "outputs": []
    },
    {
      "cell_type": "code",
      "source": [
        "# Function to determine if a year is leap or common\n",
        "def determine_year_type(year):\n",
        "    if (year % 4 == 0 and year % 100 != 0) or (year % 400 == 0):\n",
        "        return \"Leap Year\"\n",
        "    else:\n",
        "        return \"Common Year\"\n",
        "\n",
        "# Function to determine the number of days in a month\n",
        "def determine_month_days(month, year):\n",
        "    if month in [1, 3, 5, 7, 8, 10, 12]:\n",
        "        return 31\n",
        "    elif month == 2:\n",
        "        if determine_year_type(year) == \"Leap Year\":\n",
        "            return 29\n",
        "        else:\n",
        "            return 28\n",
        "    elif month in [4, 6, 9, 11]:\n",
        "        return 30\n",
        "    else:\n",
        "        return \"Invalid Month\"\n",
        "\n",
        "# Input year and month from the user\n",
        "try:\n",
        "    year = int(input(\"Enter a year: \"))\n",
        "    month = int(input(\"Enter a month (1-12): \"))\n",
        "\n",
        "    # Call the function to determine the year type\n",
        "    year_type = determine_year_type(year)\n",
        "\n",
        "    # Call the function to determine the number of days in the month\n",
        "    month_days = determine_month_days(month, year)\n",
        "\n",
        "    # Print the results\n",
        "    print(f\"The year {year} is a {year_type}.\")\n",
        "\n",
        "    if month_days != \"Invalid Month\":\n",
        "        print(f\"The month {month} has {month_days} days.\")\n",
        "    else:\n",
        "        print(\"Invalid input. Please enter a valid month (1-12).\")\n",
        "except ValueError:\n",
        "    print(\"Invalid input. Please enter valid numeric year and month values.\")\n"
      ],
      "metadata": {
        "colab": {
          "base_uri": "https://localhost:8080/"
        },
        "id": "c7uvEIEUPWwT",
        "outputId": "5f570843-f2aa-4a3d-e2a1-e7915812db1d"
      },
      "execution_count": null,
      "outputs": [
        {
          "output_type": "stream",
          "name": "stdout",
          "text": [
            "Enter a year: 2022\n",
            "Enter a month (1-12): 8\n",
            "The year 2022 is a Common Year.\n",
            "The month 8 has 31 days.\n"
          ]
        }
      ]
    },
    {
      "cell_type": "code",
      "source": [
        "# Basic Level :\n",
        "#Que number 1. Write a Python program that checks if a given number is positive, negative, or zero."
      ],
      "metadata": {
        "id": "09VOZgE8PXp6"
      },
      "execution_count": null,
      "outputs": []
    },
    {
      "cell_type": "code",
      "source": [
        "number = float(input(\"Enter a number: \"))\n",
        "\n",
        "if number > 0:\n",
        "    print(\"The number is positive.\")\n",
        "elif number < 0:\n",
        "    print(\"The number is negative.\")\n",
        "else:\n",
        "    print(\"The number is zero.\")\n"
      ],
      "metadata": {
        "colab": {
          "base_uri": "https://localhost:8080/"
        },
        "id": "kHJjgNXorf6h",
        "outputId": "0a39f285-7901-44d6-a1a2-f6af354c1735"
      },
      "execution_count": null,
      "outputs": [
        {
          "output_type": "stream",
          "name": "stdout",
          "text": [
            "Enter a number: 7\n",
            "The number is positive.\n"
          ]
        }
      ]
    },
    {
      "cell_type": "code",
      "source": [
        "#Que number 2. Create a program to determine if a person is eligible to vote based on their age.\n",
        "\n"
      ],
      "metadata": {
        "id": "8GbEHux5rqlC"
      },
      "execution_count": null,
      "outputs": []
    },
    {
      "cell_type": "code",
      "source": [
        "age = int(input(\"Enter your age: \"))\n",
        "\n",
        "# Check if the person is eligible to vote\n",
        "if age >= 18:\n",
        "    print(\"You are eligible to vote.\")\n",
        "else:\n",
        "    print(\"You are not eligible to vote.\")\n",
        "\n"
      ],
      "metadata": {
        "colab": {
          "base_uri": "https://localhost:8080/"
        },
        "id": "can49CP2sChT",
        "outputId": "d8b7629e-caea-477c-ed97-683e1e1f9b92"
      },
      "execution_count": null,
      "outputs": [
        {
          "output_type": "stream",
          "name": "stdout",
          "text": [
            "Enter your age: 22\n",
            "You are eligible to vote.\n"
          ]
        }
      ]
    },
    {
      "cell_type": "code",
      "source": [
        "#Que number 3. Write a program to find the maximum of two given numbers using conditional statements."
      ],
      "metadata": {
        "id": "zB8u7-vasLFc"
      },
      "execution_count": null,
      "outputs": []
    },
    {
      "cell_type": "code",
      "source": [
        "\n",
        "num1 = float(input(\"Enter the first number: \"))\n",
        "num2 = float(input(\"Enter the second number: \"))\n",
        "\n",
        "# Use a conditional statement to find the maximum\n",
        "if num1 > num2:\n",
        "    maximum = num1\n",
        "else:\n",
        "    maximum = num2\n",
        "\n",
        "print(\"The maximum number is:\", maximum)\n"
      ],
      "metadata": {
        "colab": {
          "base_uri": "https://localhost:8080/"
        },
        "id": "0J8sYVDHsXxV",
        "outputId": "0be09043-29a2-4ceb-d9cb-d7a6a3cb1255"
      },
      "execution_count": null,
      "outputs": [
        {
          "output_type": "stream",
          "name": "stdout",
          "text": [
            "Enter the first number: 45\n",
            "Enter the second number: 56\n",
            "The maximum number is: 56.0\n"
          ]
        }
      ]
    },
    {
      "cell_type": "code",
      "source": [
        "#Que number 4. Develop a program that calculates the grade of a student based on their exam score."
      ],
      "metadata": {
        "id": "HZfYY5wvsern"
      },
      "execution_count": null,
      "outputs": []
    },
    {
      "cell_type": "code",
      "source": [
        "score = float(input(\"Enter your exam score: \"))\n",
        "\n",
        "# Determine the grade based on the score\n",
        "if 80 <= score <= 100:\n",
        "    grade = \"A\"\n",
        "elif 85 <= score < 90:\n",
        "    grade = \"B\"\n",
        "elif 70 <= score < 80:\n",
        "    grade = \"C\"\n",
        "elif 60 <= score < 70:\n",
        "    grade = \"D\"\n",
        "else:\n",
        "    grade = \"F\"\n",
        "\n",
        "print(\"Your grade is:\", grade)\n",
        "\n",
        "\n"
      ],
      "metadata": {
        "colab": {
          "base_uri": "https://localhost:8080/"
        },
        "id": "QWUkTTrissb4",
        "outputId": "00cb90f0-826f-4f7f-ad70-d7e5150b7731"
      },
      "execution_count": null,
      "outputs": [
        {
          "output_type": "stream",
          "name": "stdout",
          "text": [
            "Enter your exam score: 78\n",
            "Your grade is: C\n"
          ]
        }
      ]
    },
    {
      "cell_type": "code",
      "source": [
        "#Que number #5. Create a program that checks if a year is a leap year or not."
      ],
      "metadata": {
        "id": "ialpKAv0tr8r"
      },
      "execution_count": null,
      "outputs": []
    },
    {
      "cell_type": "code",
      "source": [
        "\n",
        "year = int(input(\"Enter a year: \"))\n",
        "\n",
        "# Check if it's a leap year\n",
        "if (year % 4 == 0 and year % 100 != 0) or (year % 400 == 0):\n",
        "    print(year, \"is a leap year.\")\n",
        "else:\n",
        "    print(year, \"is not a leap year.\")\n"
      ],
      "metadata": {
        "colab": {
          "base_uri": "https://localhost:8080/"
        },
        "id": "5gfngONDuGZo",
        "outputId": "75b08072-fe31-49b9-8cb0-ea1a32d00400"
      },
      "execution_count": null,
      "outputs": [
        {
          "output_type": "stream",
          "name": "stdout",
          "text": [
            "Enter a year: 900\n",
            "900 is not a leap year.\n"
          ]
        }
      ]
    },
    {
      "cell_type": "code",
      "source": [
        "#Que number #6. Write a program to classify a triangle based on its sides' lengths."
      ],
      "metadata": {
        "id": "uPVpE9RouS1g"
      },
      "execution_count": null,
      "outputs": []
    },
    {
      "cell_type": "code",
      "source": [
        "\n",
        "side1 = float(input(\"Enter the length of the first side: \"))\n",
        "side2 = float(input(\"Enter the length of the second side: \"))\n",
        "side3 = float(input(\"Enter the length of the third side: \"))\n",
        "\n",
        "# Check the type of triangle\n",
        "if side1 == side2 == side3:\n",
        "    triangle_type = \"Equilateral\"\n",
        "elif side1 == side2 or side1 == side3 or side2 == side3:\n",
        "    triangle_type = \"Isosceles\"\n",
        "else:\n",
        "    triangle_type = \"Scalene\"\n",
        "\n",
        "\n",
        "print(f\"The triangle is classified as {triangle_type}.\")\n"
      ],
      "metadata": {
        "colab": {
          "base_uri": "https://localhost:8080/"
        },
        "id": "Bvcz4C4uuhQY",
        "outputId": "07632ece-2a95-4f71-c0a1-514959c07059"
      },
      "execution_count": null,
      "outputs": [
        {
          "output_type": "stream",
          "name": "stdout",
          "text": [
            "Enter the length of the first side: 34\n",
            "Enter the length of the second side: 44\n",
            "Enter the length of the third side: 45\n",
            "The triangle is classified as Scalene.\n"
          ]
        }
      ]
    },
    {
      "cell_type": "code",
      "source": [
        "#Que number #7. Build a program that determines the largest of three given numbers."
      ],
      "metadata": {
        "id": "sfTku3sKunFe"
      },
      "execution_count": null,
      "outputs": []
    },
    {
      "cell_type": "code",
      "source": [
        "\n",
        "num1 = float(input(\"Enter the first number: \"))\n",
        "num2 = float(input(\"Enter the second number: \"))\n",
        "num3 = float(input(\"Enter the third number: \"))\n",
        "\n",
        "# Determine the largest number using conditional statements\n",
        "if num1 >= num2 and num1 >= num3:\n",
        "    largest = num1\n",
        "elif num2 >= num1 and num2 >= num3:\n",
        "    largest = num2\n",
        "else:\n",
        "    largest = num3\n",
        "\n",
        "print(\"The largest number is:\", largest)\n"
      ],
      "metadata": {
        "colab": {
          "base_uri": "https://localhost:8080/"
        },
        "id": "z7clP9sDu7qt",
        "outputId": "02813a3e-6098-459a-be1e-054bb0b7770a"
      },
      "execution_count": null,
      "outputs": [
        {
          "output_type": "stream",
          "name": "stdout",
          "text": [
            "Enter the first number: 333\n",
            "Enter the second number: 668\n",
            "Enter the third number: 427\n",
            "The largest number is: 668.0\n"
          ]
        }
      ]
    },
    {
      "cell_type": "code",
      "source": [
        "#Que number #8. Develop a program that checks whether a character is a vowel or a consonant."
      ],
      "metadata": {
        "id": "dTtufsC1vFgY"
      },
      "execution_count": null,
      "outputs": []
    },
    {
      "cell_type": "code",
      "source": [
        "char = input(\"Enter a character: \")\n",
        "\n",
        "\n",
        "char = char.lower()\n",
        "\n",
        "# Check if the character is a vowel or a consonant\n",
        "if char.isalpha() and len(char) == 1:\n",
        "    if char in ['a', 'e', 'i', 'o', 'u']:\n",
        "        print(f\"{char} is a vowel.\")\n",
        "    else:\n",
        "        print(f\"{char} is a consonant.\")\n",
        "else:\n",
        "    print(\"Invalid input. Please enter a single alphabet character.\")\n"
      ],
      "metadata": {
        "colab": {
          "base_uri": "https://localhost:8080/"
        },
        "id": "52axXeyTvQdo",
        "outputId": "d3356f2d-fbb9-4928-df4b-b3f4606895e2"
      },
      "execution_count": null,
      "outputs": [
        {
          "output_type": "stream",
          "name": "stdout",
          "text": [
            "Enter a character: c\n",
            "c is a consonant.\n"
          ]
        }
      ]
    },
    {
      "cell_type": "code",
      "source": [
        "#Que number #9. Create a program to calculate the total cost of a shopping cart based on discounts."
      ],
      "metadata": {
        "id": "zBurgN9OvXsm"
      },
      "execution_count": null,
      "outputs": []
    },
    {
      "cell_type": "code",
      "source": [
        "cart = {\n",
        "    \"item1\": 30.0,\n",
        "    \"item2\": 40.0,\n",
        "    \"item3\": 20.0,\n",
        "    # Add more items and prices as needed\n",
        "}\n",
        "\n",
        "# Calculate the total cost without any discounts\n",
        "total_cost = sum(cart.values())\n",
        "\n",
        "# Apply discounts based on certain conditions\n",
        "# For example, a 10% discount if the total cost is greater than $50\n",
        "if total_cost > 50:\n",
        "    discount = total_cost * 0.10\n",
        "    total_cost -= discount\n",
        "\n",
        "# Print the total cost after discounts\n",
        "print(f\"Total cost after discounts: ${total_cost:.2f}\")\n"
      ],
      "metadata": {
        "colab": {
          "base_uri": "https://localhost:8080/"
        },
        "id": "Nis2WK2XvlVE",
        "outputId": "4d7ceeef-2666-4073-c99c-77e90cf25b8c"
      },
      "execution_count": null,
      "outputs": [
        {
          "output_type": "stream",
          "name": "stdout",
          "text": [
            "Total cost after discounts: $81.00\n"
          ]
        }
      ]
    },
    {
      "cell_type": "code",
      "source": [
        "#Que number #10. Write a program that checks if a given number is even or odd."
      ],
      "metadata": {
        "id": "9vIJI2WBvuua"
      },
      "execution_count": null,
      "outputs": []
    },
    {
      "cell_type": "code",
      "source": [
        "\n",
        "number = int(input(\"Enter a number: \"))\n",
        "\n",
        "\n",
        "if number % 2 == 0:\n",
        "    print(f\"{number} is even.\")\n",
        "else:\n",
        "    print(f\"{number} is odd.\")\n"
      ],
      "metadata": {
        "colab": {
          "base_uri": "https://localhost:8080/"
        },
        "id": "0bqRU3uHv44i",
        "outputId": "03c38360-6ae0-41d5-c5df-a3a1ae8cb2d5"
      },
      "execution_count": null,
      "outputs": [
        {
          "output_type": "stream",
          "name": "stdout",
          "text": [
            "Enter a number: 3\n",
            "3 is odd.\n"
          ]
        }
      ]
    },
    {
      "cell_type": "code",
      "source": [
        "#Que number 11. Write a program that calculates the roots of a quadratic equation ."
      ],
      "metadata": {
        "id": "CH-pSxedBmhs"
      },
      "execution_count": null,
      "outputs": []
    },
    {
      "cell_type": "code",
      "source": [
        "import math\n",
        "\n",
        "def calculate_quadratic_roots(a, b, c):\n",
        "    # Calculate the discriminant\n",
        "    discriminant = b**2 - 4*a*c\n",
        "\n",
        "    if discriminant > 0:\n",
        "        # Two real and distinct roots\n",
        "        root1 = (-b + math.sqrt(discriminant)) / (2*a)\n",
        "        root2 = (-b - math.sqrt(discriminant)) / (2*a)\n",
        "        return root1, root2\n",
        "    elif discriminant == 0:\n",
        "        # One real root (a repeated root)\n",
        "        root = -b / (2*a)\n",
        "        return root,\n",
        "    else:\n",
        "        # Complex roots\n",
        "        real_part = -b / (2*a)\n",
        "        imaginary_part = math.sqrt(-discriminant) / (2*a)\n",
        "        root1 = complex(real_part, imaginary_part)\n",
        "        root2 = complex(real_part, -imaginary_part)\n",
        "        return root1, root2\n",
        "\n",
        "# Input coefficients from the user\n",
        "a = float(input(\"Enter coefficient a: \"))\n",
        "b = float(input(\"Enter coefficient b: \"))\n",
        "c = float(input(\"Enter coefficient c: \"))\n",
        "\n",
        "\n",
        "roots = calculate_quadratic_roots(a, b, c)\n",
        "if len(roots) == 1:\n",
        "    print(f\"There is one real root: {roots[0]}\")\n",
        "else:\n",
        "    print(f\"There are two real roots: {roots[0]} and {roots[1]}\")\n",
        "\n",
        "\n",
        "#Que number 12. Create a program that determines the day of the week based on the day number (1-7).\n",
        "\n",
        "def get_day_of_week(day_number):\n",
        "    days_of_week = [\"Monday\", \"Tuesday\", \"Wednesday\", \"Thursday\", \"Friday\", \"Saturday\", \"Sunday\"]\n",
        "\n",
        "    if 1 <= day_number <= 8:\n",
        "        return days_of_week[day_number - 1]\n",
        "    else:\n",
        "        return \"Invalid day number. Please enter a number between 1 and 8.\"\n",
        "\n",
        "day_number = int(input(\"Enter a day number (1-8): \"))\n",
        "\n",
        "day_of_week = get_day_of_week(day_number)\n",
        "print(f\"The day of the week for day number {day_number} is {day_of_week}.\")\n",
        "\n",
        "\n",
        "#Que number 13. Develop a program that calculates the factorial of a given number using recursion.\n",
        "\n",
        "def factorial(n):\n",
        "    if n == 0:\n",
        "        return 1\n",
        "    else:\n",
        "        return n * factorial(n - 1)\n",
        "\n",
        "try:\n",
        "    num = int(input(\"Enter a non-negative integer: \"))\n",
        "    if num < 0:\n",
        "        print(\"Factorial is not defined for negative numbers.\")\n",
        "    else:\n",
        "        result = factorial(num)\n",
        "        print(f\"The factorial of {num} is {result}\")\n",
        "except ValueError:\n",
        "    print(\"Invalid input. Please enter a non-negative integer.\")\n",
        "\n",
        "\n",
        "#Que number 14. Write a program to find the largest among three numbers without using the `max()` function.\n",
        "\n",
        "try:\n",
        "    num1 = float(input(\"Enter the first number: \"))\n",
        "    num2 = float(input(\"Enter the second number: \"))\n",
        "    num3 = float(input(\"Enter the third number: \"))\n",
        "\n",
        "    if num1 >= num2 and num1 >= num3:\n",
        "        largest = num1\n",
        "    elif num2 >= num1 and num2 >= num3:\n",
        "        largest = num2\n",
        "    else:\n",
        "        largest = num3\n",
        "\n",
        "    print(f\"The largest number among {num1}, {num2}, and {num3} is {largest}\")\n",
        "except ValueError:\n",
        "    print(\"Invalid input. Please enter valid numbers.\")\n",
        "\n",
        "\n",
        "#Que number 15. Create a program that simulates a basic ATM transaction menu.\n",
        "\n",
        "account_balance = 2000.00\n",
        "\n",
        "# Function to check account balance\n",
        "def check_balance():\n",
        "    print(f\"Your account balance is ${account_balance:.2f}\")\n",
        "\n",
        "# Function to deposit funds\n",
        "def deposit():\n",
        "    global account_balance\n",
        "    amount = float(input(\"Enter the amount to deposit: $\"))\n",
        "    if amount > 0:\n",
        "        account_balance += amount\n",
        "        print(f\"Deposited ${amount:.2f} successfully.\")\n",
        "    else:\n",
        "        print(\"Invalid amount. Please enter a positive value.\")\n",
        "\n",
        "# Function to withdraw funds\n",
        "def withdraw():\n",
        "    global account_balance\n",
        "    amount = float(input(\"Enter the amount to withdraw: $\"))\n",
        "    if 0 < amount <= account_balance:\n",
        "        account_balance -= amount\n",
        "        print(f\"Withdrew ${amount:.2f} successfully.\")\n",
        "    elif amount <= 0:\n",
        "        print(\"Invalid amount. Please enter a positive value.\")\n",
        "    else:\n",
        "        print(\"Insufficient funds. Cannot withdraw more than your account balance.\")\n",
        "\n",
        "# Main ATM menu\n",
        "while True:\n",
        "    print(\"\\nATM Menu:\")\n",
        "    print(\"2. Check Balance\")\n",
        "    print(\"3. Deposit\")\n",
        "    print(\"4. Withdraw\")\n",
        "    print(\"5. Exit\")\n",
        "\n",
        "    choice = input(\"Enter your choice (1/2/3/4): \")\n",
        "\n",
        "    if choice == '2':\n",
        "        check_balance()\n",
        "    elif choice == '3':\n",
        "        deposit()\n",
        "    elif choice == '4':\n",
        "        withdraw()\n",
        "    elif choice == '5':\n",
        "        print(\"Thank you for using the ATM. Have a nice day!\")\n",
        "        break\n",
        "    else:\n",
        "        print(\"Invalid choice. Please select a valid option (1/2/3/4).\")\n",
        "\n",
        "\n",
        "#Que number 16. Build a program that checks if a given string is a palindrome or not.\n",
        "\n",
        "\n",
        "def is_palindrome(input_string):\n",
        "    # Remove spaces and convert to lowercase\n",
        "    cleaned_string = input_string.replace(\" \", \"\").lower()\n",
        "\n",
        "    # Check if the cleaned string is the same when reversed\n",
        "    return cleaned_string == cleaned_string[::-1]\n",
        "\n",
        "# Input a string from the user\n",
        "input_string = input(\"Enter a string: \")\n",
        "\n",
        "if is_palindrome(input_string):\n",
        "    print(f\"'{input_string}' is a palindrome.\")\n",
        "else:\n",
        "    print(f\"'{input_string}' is not a palindrome.\")\n",
        "\n",
        "\n",
        "#Que number 17. Write a program that calculates the average of a list of numbers, excluding the smallest and largest values.\n",
        "\n",
        "def calculate_average_excluding_extremes(numbers):\n",
        "    if len(numbers) <= 2:\n",
        "        return \"List should have at least 3 elements.\"\n",
        "\n",
        "    # Remove the smallest and largest values\n",
        "    numbers.remove(min(numbers))\n",
        "    numbers.remove(max(numbers))\n",
        "\n",
        "    # Calculate the average of the remaining values\n",
        "    average = sum(numbers) / len(numbers)\n",
        "    return average\n",
        "\n",
        "\n",
        "try:\n",
        "    num_list = [float(x) for x in input(\"Enter a list of numbers separated by spaces: \").split()]\n",
        "    average = calculate_average_excluding_extremes(num_list)\n",
        "\n",
        "    if isinstance(average, str):\n",
        "        print(average)\n",
        "    else:\n",
        "        print(f\"The average of the list (excluding the smallest and largest values) is: {average:.2f}\")\n",
        "except ValueError:\n",
        "    print(\"Invalid input. Please enter a list of numbers separated by spaces.\")\n",
        "\n",
        "\n",
        "#Que number 18. Develop a program that converts a given temperature from Celsius to Fahrenheit.\n",
        "\n",
        "def celsius_to_fahrenheit(celsius):\n",
        "    fahrenheit = (celsius * 9/5) + 32\n",
        "    return fahrenheit\n",
        "\n",
        "# Input temperature in Celsius from the user\n",
        "try:\n",
        "    celsius = float(input(\"Enter temperature in Celsius: \"))\n",
        "    fahrenheit = celsius_to_fahrenheit(celsius)\n",
        "    print(f\"{celsius:.2f} degrees Celsius is equal to {fahrenheit:.2f} degrees Fahrenheit.\")\n",
        "except ValueError:\n",
        "    print(\"Invalid input. Please enter a numeric value for temperature in Celsius.\")\n",
        "\n",
        "\n",
        "#Que number 19. Create a program that simulates a basic calculator for addition, subtraction, multiplication, and division.\n",
        "\n",
        "# Function to perform addition\n",
        "def add(x, y):\n",
        "    return x + y\n",
        "\n",
        "# Function to perform subtraction\n",
        "def subtract(x, y):\n",
        "    return x - y\n",
        "\n",
        "# Function to perform multiplication\n",
        "def multiply(x, y):\n",
        "    return x * y\n",
        "\n",
        "# Function to perform division\n",
        "def divide(x, y):\n",
        "    if y == 0:\n",
        "        return \"Division by zero is not allowed.\"\n",
        "    else:\n",
        "        return x / y\n",
        "\n",
        "# Main calculator loop\n",
        "while True:\n",
        "    print(\"\\nCalculator Menu:\")\n",
        "    print(\"1. Addition\")\n",
        "    print(\"2. Subtraction\")\n",
        "    print(\"3. Multiplication\")\n",
        "    print(\"4. Division\")\n",
        "    print(\"5. Exit\")\n",
        "\n",
        "    choice = input(\"Enter your choice (1/2/3/4/5): \")\n",
        "\n",
        "    if choice == '5':\n",
        "        print(\"Thank you for using the calculator. Goodbye!\")\n",
        "        break\n",
        "\n",
        "    if choice in ('1', '2', '3', '4'):\n",
        "        num1 = float(input(\"Enter first number: \"))\n",
        "        num2 = float(input(\"Enter second number: \"))\n",
        "\n",
        "        if choice == '1':\n",
        "            result = add(num1, num2)\n",
        "            operation = \"addition\"\n",
        "        elif choice == '2':\n",
        "            result = subtract(num1, num2)\n",
        "            operation = \"subtraction\"\n",
        "        elif choice == '3':\n",
        "            result = multiply(num1, num2)\n",
        "            operation = \"multiplication\"\n",
        "        elif choice == '4':\n",
        "            result = divide(num1, num2)\n",
        "            operation = \"division\"\n",
        "\n",
        "        if isinstance(result, str):\n",
        "            print(result)\n",
        "        else:\n",
        "            print(f\"Result of {operation}: {num1} {operation} {num2} = {result}\")\n",
        "    else:\n",
        "        print(\"Invalid choice. Please select a valid option (1/2/3/4/5).\")\n",
        "\n",
        "\n",
        "#Que number 20. Write a program that determines the roots of a cubic equation using the Cardano formula.\n",
        "\n",
        "import math\n",
        "\n",
        "def cubic_roots(a, b, c, d):\n",
        "    if a == 0:\n",
        "        raise ValueError(\"Coefficient 'a' cannot be zero for a cubic equation\")\n",
        "\n",
        "    p = (3 * a * c - b ** 2) / (3 * a ** 2)\n",
        "    q = (2 * b ** 3 - 9 * a * b * c + 27 * a ** 2 * d) / (27 * a ** 3)\n",
        "\n",
        "    delta = q ** 2 / 4 + p ** 3 / 27\n",
        "\n",
        "    if delta > 0:\n",
        "        u = (-q / 2 + math.sqrt(delta)) ** (1 / 3)\n",
        "        v = (-q / 2 - math.sqrt(delta)) ** (1 / 3)\n",
        "        root1 = u + v - b / (3 * a)\n",
        "        return [root1]\n",
        "\n",
        "    elif delta == 0:\n",
        "        if q >= 0:\n",
        "            root1 = (-2 * q) ** (1 / 3) - b / (3 * a)\n",
        "            root2 = root1\n",
        "            root3 = -root1 / 2\n",
        "        else:\n",
        "            root1 = (-2 * q) ** (1 / 3) - b / (3 * a)\n",
        "            root2 = (-2 * q) ** (1 / 3) - b / (3 * a)\n",
        "            root3 = (4 * q) ** (1 / 3) / (3 * a)\n",
        "        return [root1, root2, root3]\n",
        "\n",
        "    else:\n",
        "        rho = (-q / 2 + math.sqrt(-delta)) ** (1 / 3)\n",
        "        theta = math.acos(-q / (2 * math.sqrt(-delta)))\n",
        "        root1 = 2 * math.sqrt(-p / 3) * math.cos(theta / 3) - b / (3 * a)\n",
        "        root2 = 2 * math.sqrt(-p / 3) * math.cos((theta + 2 * math.pi) / 3) - b / (3 * a)\n",
        "        root3 = 2 * math.sqrt(-p / 3) * math.cos((theta + 4 * math.pi) / 3) - b / (3 * a)\n",
        "        return [root1, root2, root3]\n",
        "\n",
        "\n",
        "a = 2\n",
        "b = -5\n",
        "c = 12\n",
        "d = -5\n",
        "\n",
        "roots = cubic_roots(a, b, c, d)\n",
        "print(\"Roots:\", roots)\n",
        "\n",
        "\n",
        "#Que number 21. Create a program that calculates the income tax based on the user's income and tax brackets.\n",
        "\n",
        "def calculate_income_tax(income):\n",
        "    # Define tax brackets and rates\n",
        "    brackets = [(0, 20000), (20001, 40000), (40001, 80000), (80001, float('inf'))]\n",
        "    rates = [0.10, 0.20, 0.30, 0.40]\n",
        "\n",
        "    tax = 0\n",
        "\n",
        "    # Calculate tax for each bracket\n",
        "    for i in range(len(brackets)):\n",
        "        min_income, max_income = brackets[i]\n",
        "        rate = rates[i]\n",
        "\n",
        "        if income <= min_income:\n",
        "            break\n",
        "        elif income <= max_income:\n",
        "            tax += (income - min_income) * rate\n",
        "            break\n",
        "        else:\n",
        "            tax += (max_income - min_income) * rate\n",
        "\n",
        "    return tax\n",
        "\n",
        "\n",
        "try:\n",
        "    income = float(input(\"Enter your annual income: $\"))\n",
        "\n",
        "    if income < 0:\n",
        "        print(\"Income cannot be negative.\")\n",
        "    else:\n",
        "        income_tax = calculate_income_tax(income)\n",
        "        print(f\"Your income tax is: ${income_tax:.2f}\")\n",
        "except ValueError:\n",
        "    print(\"Invalid input. Please enter a valid income.\")\n",
        "\n",
        "\n",
        "#Que number 22. Write a program that simulates a rock-paper-scissors game against the computer.\n",
        "\n",
        "import random\n",
        "\n",
        "def get_user_choice():\n",
        "    while True:\n",
        "        user_choice = input(\"Enter 'rock', 'paper', or 'scissors': \").lower()\n",
        "        if user_choice in ['rock', 'paper', 'scissors']:\n",
        "            return user_choice\n",
        "        else:\n",
        "            print(\"Invalid choice. Please enter 'rock', 'paper', or 'scissors'.\")\n",
        "\n",
        "def get_computer_choice():\n",
        "    return random.choice(['rock', 'paper', 'scissors'])\n",
        "\n",
        "def determine_winner(user_choice, computer_choice):\n",
        "    if user_choice == computer_choice:\n",
        "        return \"It's a tie!\"\n",
        "    elif (\n",
        "        (user_choice == 'rock' and computer_choice == 'scissors') or\n",
        "        (user_choice == 'paper' and computer_choice == 'rock') or\n",
        "        (user_choice == 'scissors' and computer_choice == 'paper')\n",
        "    ):\n",
        "        return \"You win!\"\n",
        "    else:\n",
        "        return \"Computer wins!\"\n",
        "\n",
        "def main():\n",
        "    print(\"Welcome to Rock-Paper-Scissors!\")\n",
        "    play_again = 'yes'\n",
        "\n",
        "    while play_again.lower() == 'yes':\n",
        "        user_choice = get_user_choice()\n",
        "        computer_choice = get_computer_choice()\n",
        "\n",
        "        print(f\"You chose {user_choice}.\")\n",
        "        print(f\"Computer chose {computer_choice}.\")\n",
        "\n",
        "        result = determine_winner(user_choice, computer_choice)\n",
        "        print(result)\n",
        "\n",
        "        play_again = input(\"Do you want to play again? (yes/no): \")\n",
        "\n",
        "    print(\"Thanks for playing!\")\n",
        "\n",
        "if __name__ == \"__main__\":\n",
        "    main()\n",
        "\n",
        "\n",
        "#Que number 23. Develop a program that generates a random password based on user preferences (length, complexity).\n",
        "\n",
        "import random\n",
        "import string\n",
        "\n",
        "def generate_password(length, use_lowercase, use_uppercase, use_digits, use_special_chars):\n",
        "    characters = \"\"\n",
        "\n",
        "    if use_lowercase:\n",
        "        characters += string.ascii_lowercase\n",
        "    if use_uppercase:\n",
        "        characters += string.ascii_uppercase\n",
        "    if use_digits:\n",
        "        characters += string.digits\n",
        "    if use_special_chars:\n",
        "        characters += string.punctuation\n",
        "\n",
        "    if not characters:\n",
        "        print(\"Please select at least one character type.\")\n",
        "        return None\n",
        "\n",
        "    password = ''.join(random.choice(characters) for _ in range(length))\n",
        "    return password\n",
        "\n",
        "def main():\n",
        "    print(\"Password Generator\")\n",
        "\n",
        "    length = int(input(\"Enter the desired password length: \"))\n",
        "    use_lowercase = input(\"Include lowercase letters? (yes/no): \").lower() == \"yes\"\n",
        "    use_uppercase = input(\"Include uppercase letters? (yes/no): \").lower() == \"yes\"\n",
        "    use_digits = input(\"Include digits? (yes/no): \").lower() == \"yes\"\n",
        "    use_special_chars = input(\"Include special characters? (yes/no): \").lower() == \"yes\"\n",
        "\n",
        "    password = generate_password(length, use_lowercase, use_uppercase, use_digits, use_special_chars)\n",
        "\n",
        "    if password:\n",
        "        print(\"Generated Password:\", password)\n",
        "\n",
        "if __name__ == \"__main__\":\n",
        "    main()\n",
        "\n",
        "\n",
        "#Que number 24. Create a program that implements a simple text-based adventure game with branching scenarios.\n",
        "\n",
        "import time\n",
        "\n",
        "def print_slow(text):\n",
        "    for char in text:\n",
        "        print(char, end='', flush=True)\n",
        "        time.sleep(0.05)\n",
        "    print()\n",
        "\n",
        "def make_choice(options):\n",
        "    while True:\n",
        "        choice = input(\"Enter your choice: \").strip().lower()\n",
        "        if choice in options:\n",
        "            return choice\n",
        "        else:\n",
        "            print(\"Invalid choice. Please choose from the available options.\")\n",
        "\n",
        "def intro():\n",
        "    print_slow(\"Welcome to the Text Adventure Game!\")\n",
        "    print_slow(\"You find yourself in a dark forest.\")\n",
        "    print_slow(\"You have to make choices to find your way out.\")\n",
        "\n",
        "def forest_path():\n",
        "    print_slow(\"You are on a forest path.\")\n",
        "    print_slow(\"You see a fork in the road.\")\n",
        "    print_slow(\"Do you want to go 'left' or 'right'?\")\n",
        "    choice = make_choice(['left', 'right'])\n",
        "    if choice == 'left':\n",
        "        print_slow(\"You chose to go left.\")\n",
        "        print_slow(\"You discover a hidden treasure chest!\")\n",
        "        print_slow(\"Congratulations! You've won the game.\")\n",
        "    else:\n",
        "        print_slow(\"You chose to go right.\")\n",
        "        print_slow(\"You encounter a group of angry bees!\")\n",
        "        print_slow(\"They chase you away. You retreat to the forest path.\")\n",
        "        forest_path()\n",
        "\n",
        "def start_game():\n",
        "    intro()\n",
        "    forest_path()\n",
        "\n",
        "if __name__ == \"__main__\":\n",
        "    start_game()\n",
        "\n",
        "\n",
        "#Que number 25. Build a program that solves a linear equation for x, considering different cases.\n",
        "\n",
        "def solve_linear_equation(a, b):\n",
        "    if a == 0:\n",
        "        if b == 0:\n",
        "            return \"Infinite solutions (x can be any real number)\"\n",
        "        else:\n",
        "            return \"No solution (the equation is not valid)\"\n",
        "    else:\n",
        "        x = -b / a\n",
        "        return f\"The solution is x = {x:.2f}\"\n",
        "\n",
        "def main():\n",
        "    print(\"Linear Equation Solver\")\n",
        "    print(\"A linear equation is of the form 'ax + b = 0'.\")\n",
        "\n",
        "    try:\n",
        "        a = float(input(\"Enter the coefficient 'a': \"))\n",
        "        b = float(input(\"Enter the coefficient 'b': \"))\n",
        "\n",
        "        result = solve_linear_equation(a, b)\n",
        "        print(result)\n",
        "\n",
        "    except ValueError:\n",
        "        print(\"Invalid input. Please enter valid numerical coefficients.\")\n",
        "\n",
        "if __name__ == \"__main__\":\n",
        "    main()\n",
        "\n",
        "#Que number 26 #Write a program that simulates a basic quiz game with multiple-choice questions and scoring.\n",
        "\n",
        "class Question:\n",
        "    def __init__(self, text, options, correct_option):\n",
        "        self.text = text\n",
        "        self.options = options\n",
        "        self.correct_option = correct_option\n",
        "\n",
        "    def display_question(self):\n",
        "        print(self.text)\n",
        "        for i, option in enumerate(self.options, start=1):\n",
        "            print(f\"{i}. {option}\")\n",
        "\n",
        "    def is_correct(self, user_answer):\n",
        "        return user_answer == self.correct_option\n",
        "\n",
        "\n",
        "def run_quiz(questions):\n",
        "    score = 0\n",
        "\n",
        "    for question in questions:\n",
        "        question.display_question()\n",
        "        user_answer = input(\"Enter the number of your answer: \")\n",
        "\n",
        "        try:\n",
        "            user_answer = int(user_answer)\n",
        "\n",
        "            if 1 <= user_answer <= len(question.options):\n",
        "                if question.is_correct(user_answer):\n",
        "                    print(\"Correct!\\n\")\n",
        "                    score += 1\n",
        "                else:\n",
        "                    print(f\"Wrong. The correct answer is {question.correct_option}: {question.options[question.correct_option - 1]}\\n\")\n",
        "            else:\n",
        "                print(\"Invalid choice. Please choose a valid option.\\n\")\n",
        "        except ValueError:\n",
        "            print(\"Invalid input. Please enter a number.\\n\")\n",
        "\n",
        "    print(f\"Quiz completed! Your score is: {score}/{len(questions)}\")\n",
        "\n",
        "\n",
        "def main():\n",
        "    print(\"Welcome to the Quiz Game!\\n\")\n",
        "\n",
        "    question1 = Question(\"What is the capital of France?\", [\"Paris\", \"London\", \"Berlin\", \"Madrid\"], 1)\n",
        "    question2 = Question(\"What is the largest planet in our solar system?\", [\"Earth\", \"Mars\", \"Jupiter\", \"Saturn\"], 3)\n",
        "    question3 = Question(\"Which gas do plants absorb from the atmosphere?\", [\"Oxygen\", \"Carbon Dioxide\", \"Nitrogen\", \"Hydrogen\"], 2)\n",
        "\n",
        "    questions = [question1, question2, question3]\n",
        "\n",
        "    run_quiz(questions)\n",
        "\n",
        "\n",
        "if __name__ == \"__main__\":\n",
        "    main()\n",
        "\n",
        "\n",
        "#Que number 27. Develop a program that determines whether a given year is a prime number or not.\n",
        "\n",
        "def is_prime(year):\n",
        "    if year <= 1:\n",
        "        return False\n",
        "    elif year <= 3:\n",
        "        return True\n",
        "    elif year % 2 == 0 or year % 3 == 0:\n",
        "        return False\n",
        "\n",
        "    i = 5\n",
        "    while i * i <= year:\n",
        "        if year % i == 0 or year % (i + 2) == 0:\n",
        "            return False\n",
        "        i += 6\n",
        "\n",
        "    return True\n",
        "\n",
        "def main():\n",
        "    year = int(input(\"Enter a year to check if it's prime: \"))\n",
        "\n",
        "    if is_prime(year):\n",
        "        print(f\"{year} is a prime year.\")\n",
        "    else:\n",
        "        print(f\"{year} is not a prime year.\")\n",
        "\n",
        "if __name__ == \"__main__\":\n",
        "    main()\n",
        "\n",
        "\n",
        "#Que number 28. Create a program that sorts three numbers in ascending order using conditional statements.\n",
        "\n",
        "def sort_numbers(num1, num2, num3):\n",
        "    if num1 <= num2 <= num3:\n",
        "        return num1, num2, num3\n",
        "    elif num1 <= num3 <= num2:\n",
        "        return num1, num3, num2\n",
        "    elif num2 <= num1 <= num3:\n",
        "        return num2, num1, num3\n",
        "    elif num2 <= num3 <= num1:\n",
        "        return num2, num3, num1\n",
        "    elif num3 <= num1 <= num2:\n",
        "        return num3, num1, num2\n",
        "    else:\n",
        "        return num3, num2, num1\n",
        "\n",
        "def main():\n",
        "    num1 = float(input(\"Enter the first number: \"))\n",
        "    num2 = float(input(\"Enter the second number: \"))\n",
        "    num3 = float(input(\"Enter the third number: \"))\n",
        "\n",
        "    sorted_nums = sort_numbers(num1, num2, num3)\n",
        "\n",
        "    print(\"Sorted numbers in ascending order:\", sorted_nums)\n",
        "\n",
        "if __name__ == \"__main__\":\n",
        "    main()\n",
        "\n",
        "\n",
        "#Que number 29. Build a program that determines the roots of a quartic equation using numerical methods.\n",
        "\n",
        "import sympy as sp\n",
        "\n",
        "def newton_raphson_quartic(coefficients, initial_guess=0, tolerance=1e-6, max_iterations=100):\n",
        "    x = sp.symbols('x')\n",
        "    f = sum(coeff * x**i for i, coeff in enumerate(coefficients))\n",
        "\n",
        "    df = sp.diff(f, x)\n",
        "    d2f = sp.diff(df, x)\n",
        "    d3f = sp.diff(d2f, x)\n",
        "\n",
        "    x_n = initial_guess\n",
        "\n",
        "    for _ in range(max_iterations):\n",
        "        f_value = f.subs(x, x_n)\n",
        "        df_value = df.subs(x, x_n)\n",
        "        d2f_value = d2f.subs(x, x_n)\n",
        "        d3f_value = d3f.subs(x, x_n)\n",
        "\n",
        "        if abs(f_value) < tolerance:\n",
        "            return x_n\n",
        "\n",
        "        if d2f_value == 0:\n",
        "            return None  # Newton-Raphson method fails\n",
        "\n",
        "        x_n = x_n - (f_value * df_value) / (df_value**2 - f_value * d2f_value)\n",
        "\n",
        "    return None\n",
        "\n",
        "def main():\n",
        "    # Input coefficients for the quartic equation: ax^4 + bx^3 + cx^2 + dx + e = 0\n",
        "    coefficients = [1, -10, 35, -50, 24]  # Example coefficients\n",
        "\n",
        "    root = newton_raphson_quartic(coefficients)\n",
        "\n",
        "    if root is None:\n",
        "        print(\"The Newton-Raphson method did not converge to a root.\")\n",
        "    else:\n",
        "        print(f\"The root of the quartic equation is approximately x = {root:.6f}\")\n",
        "\n",
        "if __name__ == \"__main__\":\n",
        "    main()\n",
        "\n",
        "\n",
        "#Que number 30. Write a program that calculates the BMI (Body Mass Index) and provides health recommendations based on the user's input.\n",
        "\n",
        "def calculate_bmi(weight, height):\n",
        "    bmi = weight / (height ** 2)\n",
        "    return bmi\n",
        "\n",
        "def get_health_recommendation(bmi):\n",
        "    if bmi < 18.5:\n",
        "        return \"You are underweight. It's important to maintain a healthy diet and consider consulting a nutritionist.\"\n",
        "    elif 18.5 <= bmi < 24.9:\n",
        "        return \"Your BMI is in the healthy range. Keep up the good work!\"\n",
        "    elif 25 <= bmi < 29.9:\n",
        "        return \"You are overweight. Consider implementing a balanced diet and regular exercise.\"\n",
        "    else:\n",
        "        return \"You are obese. It's recommended to consult a healthcare professional for guidance on weight management.\"\n",
        "\n",
        "def main():\n",
        "    print(\"Body Mass Index (BMI) Calculator\")\n",
        "    weight = float(input(\"Enter your weight (in kilograms): \"))\n",
        "    height = float(input(\"Enter your height (in meters): \"))\n",
        "\n",
        "    bmi = calculate_bmi(weight, height)\n",
        "    print(f\"Your BMI is {bmi:.2f}\")\n",
        "\n",
        "    recommendation = get_health_recommendation(bmi)\n",
        "    print(\"Health Recommendation:\", recommendation)\n",
        "\n",
        "if __name__ == \"__main__\":\n",
        "    main()\n",
        "\n",
        "\n",
        "#Que number 31. Create a program that validates a password based on complexity rules (length, characters, etc.).\n",
        "\n",
        "import re\n",
        "\n",
        "def is_valid_password(password):\n",
        "    # Check the length of the password\n",
        "    if len(password) < 8:\n",
        "        return False\n",
        "\n",
        "    # Check for at least one uppercase letter\n",
        "    if not any(char.isupper() for char in password):\n",
        "        return False\n",
        "\n",
        "    # Check for at least one lowercase letter\n",
        "    if not any(char.islower() for char in password):\n",
        "        return False\n",
        "\n",
        "    # Check for at least one digit\n",
        "    if not any(char.isdigit() for char in password):\n",
        "        return False\n",
        "\n",
        "\n",
        "    special_characters = re.compile(r'[!@#$%^&*()_+{}\\[\\]:;<>,.?~\\\\-]')\n",
        "    if not special_characters.search(password):\n",
        "        return False\n",
        "\n",
        "    return True\n",
        "\n",
        "def main():\n",
        "    print(\"Password Validator\")\n",
        "    password = input(\"Enter your password: \")\n",
        "\n",
        "    if is_valid_password(password):\n",
        "        print(\"Password is valid.\")\n",
        "    else:\n",
        "        print(\"Password is not valid. Please make sure it meets the complexity rules.\")\n",
        "\n",
        "if __name__ == \"__main__\":\n",
        "    main()\n",
        "\n",
        "\n",
        "#Que number 32. Develop a program that performs matrix addition and subtraction based on user input.\n",
        "\n",
        "def get_matrix(rows, cols):\n",
        "    matrix = []\n",
        "    for i in range(rows):\n",
        "        row = []\n",
        "        for j in range(cols):\n",
        "            value = float(input(f\"Enter the element at row {i + 1}, column {j + 1}: \"))\n",
        "            row.append(value)\n",
        "        matrix.append(row)\n",
        "    return matrix\n",
        "\n",
        "def add_matrices(matrix1, matrix2):\n",
        "    if len(matrix1) != len(matrix2) or len(matrix1[0]) != len(matrix2[0]):\n",
        "        return None  # Matrices are not compatible for addition\n",
        "\n",
        "    result = []\n",
        "    for i in range(len(matrix1)):\n",
        "        row = []\n",
        "        for j in range(len(matrix1[0])):\n",
        "            sum_value = matrix1[i][j] + matrix2[i][j]\n",
        "            row.append(sum_value)\n",
        "        result.append(row)\n",
        "    return result\n",
        "\n",
        "def subtract_matrices(matrix1, matrix2):\n",
        "    if len(matrix1) != len(matrix2) or len(matrix1[0]) != len(matrix2[0]):\n",
        "        return None  # Matrices are not compatible for subtraction\n",
        "\n",
        "    result = []\n",
        "    for i in range(len(matrix1)):\n",
        "        row = []\n",
        "        for j in range(len(matrix1[0])):\n",
        "            diff_value = matrix1[i][j] - matrix2[i][j]\n",
        "            row.append(diff_value)\n",
        "        result.append(row)\n",
        "    return result\n",
        "\n",
        "def print_matrix(matrix):\n",
        "    for row in matrix:\n",
        "        print(\" \".join(str(value) for value in row))\n",
        "\n",
        "def main():\n",
        "    print(\"Matrix Addition and Subtraction\")\n",
        "\n",
        "    rows = int(input(\"Enter the number of rows: \"))\n",
        "    cols = int(input(\"Enter the number of columns: \"))\n",
        "\n",
        "    print(\"Enter the first matrix:\")\n",
        "    matrix1 = get_matrix(rows, cols)\n",
        "\n",
        "    print(\"Enter the second matrix:\")\n",
        "    matrix2 = get_matrix(rows, cols)\n",
        "\n",
        "    print(\"Matrix 1:\")\n",
        "    print_matrix(matrix1)\n",
        "\n",
        "    print(\"Matrix 2:\")\n",
        "    print_matrix(matrix2)\n",
        "\n",
        "    sum_result = add_matrices(matrix1, matrix2)\n",
        "    if sum_result:\n",
        "        print(\"Matrix Addition Result:\")\n",
        "        print_matrix(sum_result)\n",
        "    else:\n",
        "        print(\"Matrices are not compatible for addition.\")\n",
        "\n",
        "    diff_result = subtract_matrices(matrix1, matrix2)\n",
        "    if diff_result:\n",
        "        print(\"Matrix Subtraction Result:\")\n",
        "        print_matrix(diff_result)\n",
        "    else:\n",
        "        print(\"Matrices are not compatible for subtraction.\")\n",
        "\n",
        "if __name__ == \"__main__\":\n",
        "    main()\n",
        "\n",
        "\n",
        "#Que number 33. Write a program that calculates the greatest common divisor (GCD) of two numbers using the Euclidean algorithm.\n",
        "\n",
        "\n",
        "def euclidean_gcd(a, b):\n",
        "    while b:\n",
        "        a, b = b, a % b\n",
        "    return a\n",
        "\n",
        "def main():\n",
        "    print(\"Greatest Common Divisor (GCD) Calculator\")\n",
        "    num1 = int(input(\"Enter the first number: \"))\n",
        "    num2 = int(input(\"Enter the second number: \"))\n",
        "\n",
        "    gcd = euclidean_gcd(num1, num2)\n",
        "    print(f\"The GCD of {num1} and {num2} is {gcd}.\")\n",
        "\n",
        "if __name__ == \"__main__\":\n",
        "    main()\n",
        "\n",
        "\n",
        "#Que number 34. Build a program that performs matrix multiplication using nested loops and conditional statements.\n",
        "\n",
        "def matrix_multiply(matrix1, matrix2):\n",
        "    rows1 = len(matrix1)\n",
        "    cols1 = len(matrix1[0])\n",
        "    rows2 = len(matrix2)\n",
        "    cols2 = len(matrix2[0])\n",
        "\n",
        "    if cols1 != rows2:\n",
        "        return None  # Matrices are not compatible for multiplication\n",
        "\n",
        "    result = [[0 for _ in range(cols2)] for _ in range(rows1)]\n",
        "\n",
        "    for i in range(rows1):\n",
        "        for j in range(cols2):\n",
        "            for k in range(cols1):\n",
        "                result[i][j] += matrix1[i][k] * matrix2[k][j]\n",
        "\n",
        "    return result\n",
        "\n",
        "def print_matrix(matrix):\n",
        "    for row in matrix:\n",
        "        print(\" \".join(str(value) for value in row))\n",
        "\n",
        "def main():\n",
        "    print(\"Matrix Multiplication\")\n",
        "\n",
        "    rows1 = int(input(\"Enter the number of rows for matrix 1: \"))\n",
        "    cols1 = int(input(\"Enter the number of columns for matrix 1: \"))\n",
        "\n",
        "    matrix1 = []\n",
        "    print(\"Enter the elements for matrix 1:\")\n",
        "    for _ in range(rows1):\n",
        "        row = []\n",
        "        for _ in range(cols1):\n",
        "            element = float(input())\n",
        "            row.append(element)\n",
        "        matrix1.append(row)\n",
        "\n",
        "    rows2 = int(input(\"Enter the number of rows for matrix 2: \"))\n",
        "    cols2 = int(input(\"Enter the number of columns for matrix 2: \"))\n",
        "\n",
        "    matrix2 = []\n",
        "    print(\"Enter the elements for matrix 2:\")\n",
        "    for _ in range(rows2):\n",
        "        row = []\n",
        "        for _ in range(cols2):\n",
        "            element = float(input())\n",
        "            row.append(element)\n",
        "        matrix2.append(row)\n",
        "\n",
        "    result = matrix_multiply(matrix1, matrix2)\n",
        "\n",
        "    if result:\n",
        "        print(\"Matrix 1:\")\n",
        "        print_matrix(matrix1)\n",
        "\n",
        "        print(\"Matrix 2:\")\n",
        "        print_matrix(matrix2)\n",
        "\n",
        "        print(\"Matrix Multiplication Result:\")\n",
        "        print_matrix(result)\n",
        "    else:\n",
        "        print(\"Matrices are not compatible for multiplication.\")\n",
        "\n",
        "if __name__ == \"__main__\":\n",
        "    main()\n",
        "\n",
        "\n",
        "#Que number 35. Create a program that simulates a basic text-based tic-tac-toe game against the computer.\n",
        "\n",
        "import random\n",
        "\n",
        "def print_board(board):\n",
        "    for row in board:\n",
        "        print(\" | \".join(row))\n",
        "        print(\"-\" * 9)\n",
        "\n",
        "def check_winner(board, player):\n",
        "    for row in board:\n",
        "        if all(cell == player for cell in row):\n",
        "            return True\n",
        "\n",
        "    for col in range(3):\n",
        "        if all(board[row][col] == player for row in range(3)):\n",
        "            return True\n",
        "\n",
        "    if all(board[i][i] == player for i in range(3)) or all(board[i][2 - i] == player for i in range(3)):\n",
        "        return True\n",
        "\n",
        "    return False\n",
        "\n",
        "def is_full(board):\n",
        "    return all(cell != \" \" for row in board for cell in row)\n",
        "\n",
        "def get_computer_move(board):\n",
        "    while True:\n",
        "        row = random.randint(0, 2)\n",
        "        col = random.randint(0, 2)\n",
        "        if board[row][col] == \" \":\n",
        "            return row, col\n",
        "\n",
        "def main():\n",
        "    print(\"Welcome to Text-Based Tic-Tac-Toe!\")\n",
        "    board = [[\" \" for _ in range(3)] for _ in range(3)]\n",
        "    player_symbol = \"X\"\n",
        "    computer_symbol = \"O\"\n",
        "\n",
        "    while True:\n",
        "        print_board(board)\n",
        "\n",
        "        # Player's move\n",
        "        while True:\n",
        "            try:\n",
        "                row = int(input(\"Enter the row (1, 2, or 3) for your move: \")) - 1\n",
        "                col = int(input(\"Enter the column (1, 2, or 3) for your move: \")) - 1\n",
        "\n",
        "                if 0 <= row < 3 and 0 <= col < 3 and board[row][col] == \" \":\n",
        "                    board[row][col] = player_symbol\n",
        "                    break\n",
        "                else:\n",
        "                    print(\"Invalid move. Try again.\")\n",
        "            except ValueError:\n",
        "                print(\"Invalid input. Please enter a number.\")\n",
        "\n",
        "        if check_winner(board, player_symbol):\n",
        "            print_board(board)\n",
        "            print(\"Congratulations! You win!\")\n",
        "            break\n",
        "\n",
        "        if is_full(board):\n",
        "            print_board(board)\n",
        "            print(\"It's a draw!\")\n",
        "            break\n",
        "\n",
        "        row, col = get_computer_move(board)\n",
        "        board[row][col] = computer_symbol\n",
        "\n",
        "        if check_winner(board, computer_symbol):\n",
        "            print_board(board)\n",
        "            print(\"Computer wins!\")\n",
        "            break\n",
        "\n",
        "        if is_full(board):\n",
        "            print_board(board)\n",
        "            print(\"It's a draw!\")\n",
        "            break\n",
        "\n",
        "if __name__ == \"__main__\":\n",
        "    main()\n",
        "\n",
        "\n",
        "#Que number36. Write a program that generates Fibonacci numbers up to a specified term using iterative methods.\n",
        "\n",
        "def generate_fibonacci(n):\n",
        "    fibonacci_sequence = [0, 1]  # Initialize the sequence with the first two Fibonacci numbers\n",
        "\n",
        "    if n <= 0:\n",
        "        return []\n",
        "    elif n == 1:\n",
        "        return [0]\n",
        "    elif n == 2:\n",
        "        return fibonacci_sequence\n",
        "\n",
        "    while len(fibonacci_sequence) < n:\n",
        "        next_number = fibonacci_sequence[-1] + fibonacci_sequence[-2]\n",
        "        fibonacci_sequence.append(next_number)\n",
        "\n",
        "    return fibonacci_sequence\n",
        "\n",
        "n = int(input(\"Enter the number of Fibonacci terms you want to generate: \"))\n",
        "\n",
        "if n <= 0:\n",
        "    print(\"Please enter a positive integer.\")\n",
        "else:\n",
        "    fibonacci_sequence = generate_fibonacci(n)\n",
        "    print(\"Fibonacci Sequence:\")\n",
        "    print(fibonacci_sequence)\n",
        "\n",
        "\n",
        "#Que number37. Develop a program that calculates the nth term of the Fibonacci sequence using memoization.\n",
        "\n",
        "fibonacci_cache = {}\n",
        "\n",
        "def fibonacci_with_memoization(n):\n",
        "    # Check if the value is already cached\n",
        "    if n in fibonacci_cache:\n",
        "        return fibonacci_cache[n]\n",
        "\n",
        "    # Calculate Fibonacci number for n\n",
        "    if n <= 1:\n",
        "        result = n\n",
        "    else:\n",
        "        result = fibonacci_with_memoization(n - 1) + fibonacci_with_memoization(n - 2)\n",
        "\n",
        "    # Cache the result and return it\n",
        "    fibonacci_cache[n] = result\n",
        "    return result\n",
        "\n",
        "# Input the term (n) for which you want to calculate the Fibonacci number\n",
        "n = int(input(\"Enter the term (n) for Fibonacci calculation: \"))\n",
        "\n",
        "if n < 0:\n",
        "    print(\"Please enter a non-negative integer.\")\n",
        "else:\n",
        "    nth_fibonacci = fibonacci_with_memoization(n)\n",
        "    print(f\"The {n}-th Fibonacci number is: {nth_fibonacci}\")\n",
        "\n"
      ],
      "metadata": {
        "id": "VcxywuqoBmfd"
      },
      "execution_count": null,
      "outputs": []
    },
    {
      "cell_type": "code",
      "source": [
        "#Que number 38. Create a program that generates a calendar for a given month and year using conditional statements."
      ],
      "metadata": {
        "id": "3xvnqeCGCi3i"
      },
      "execution_count": 1,
      "outputs": []
    },
    {
      "cell_type": "code",
      "source": [
        "import calendar\n",
        "\n",
        "# Function to generate a calendar for a given month and year\n",
        "def generate_calendar(year, month):\n",
        "    # Get the first day of the month (0 = Monday, 1 = Tuesday, ..., 6 = Sunday)\n",
        "    first_day = calendar.weekday(year, month, 1)\n",
        "\n",
        "    # Get the number of days in the month\n",
        "    num_days = calendar.monthrange(year, month)[1]\n",
        "\n",
        "    # Define the names of the days of the week\n",
        "    days_of_week = [\"Mon\", \"Tue\", \"Wed\", \"Thu\", \"Fri\", \"Sat\", \"Sun\"]\n",
        "\n",
        "    # Print the header\n",
        "    print(f\"Calendar for {calendar.month_name[month]} {year}\")\n",
        "    print(\"Mon  Tue  Wed  Thu  Fri  Sat  Sun\")\n",
        "\n",
        "    # Print leading spaces for the first day\n",
        "    print(\"    \" * first_day, end=\"\")\n",
        "\n",
        "    # Initialize the day counter\n",
        "    day = 1\n",
        "\n",
        "    # Loop through the days of the month\n",
        "    for _ in range(1, num_days + 1):\n",
        "        # Print the day, right-aligned with 2 spaces\n",
        "        print(f\"{day:2d}  \", end=\"\")\n",
        "\n",
        "        # If the day is the last day of the week (Sunday), start a new line\n",
        "        if (first_day + day) % 7 == 0:\n",
        "            print()\n",
        "\n",
        "        day += 1\n",
        "\n",
        "    # Print a newline at the end\n",
        "    print()\n",
        "\n",
        "# Input year and month\n",
        "year = int(input(\"Enter the year: \"))\n",
        "month = int(input(\"Enter the month (1-12): \"))\n",
        "\n",
        "if month < 1 or month > 12:\n",
        "    print(\"Invalid month. Please enter a number between 1 and 12.\")\n",
        "else:\n",
        "    generate_calendar(year, month)\n"
      ],
      "metadata": {
        "colab": {
          "base_uri": "https://localhost:8080/"
        },
        "id": "r3UVhhKXDpo9",
        "outputId": "4ba7898b-5384-4c1b-8839-4fe7b29484d9"
      },
      "execution_count": 2,
      "outputs": [
        {
          "output_type": "stream",
          "name": "stdout",
          "text": [
            "Enter the year: 2023\n",
            "Enter the month (1-12): 5\n",
            "Calendar for May 2023\n",
            "Mon  Tue  Wed  Thu  Fri  Sat  Sun\n",
            " 1   2   3   4   5   6   7  \n",
            " 8   9  10  11  12  13  14  \n",
            "15  16  17  18  19  20  21  \n",
            "22  23  24  25  26  27  28  \n",
            "29  30  31  \n"
          ]
        }
      ]
    },
    {
      "cell_type": "code",
      "source": [
        "#Qque number 39. Build a program that simulates a basic text-based blackjack game against the computer."
      ],
      "metadata": {
        "id": "UB4mUHmFDvkd"
      },
      "execution_count": 3,
      "outputs": []
    },
    {
      "cell_type": "code",
      "source": [
        "import random\n",
        "\n",
        "# Function to calculate the total value of a hand\n",
        "def calculate_hand_value(hand):\n",
        " value = sum(hand)\n",
        "  if 11 in hand and value > 21:\n",
        "        hand.remove(11)\n",
        "        hand.append(1)\n",
        "    return value\n",
        "\n",
        "# Function to display the cards in a hand\n",
        "def display_hand(hand):\n",
        "    card_strings = [str(card) for card in hand]\n",
        "    return ', '.join(card_strings)\n",
        "\n",
        "# Initialize the deck of cards\n",
        "suits = ['Hearts', 'Diamonds', 'Clubs', 'Spades']\n",
        "ranks = ['Two', 'Three', 'Four', 'Five', 'Six', 'Seven', 'Eight', 'Nine', 'Ten', 'Jack', 'Queen', 'King', 'Ace']\n",
        "deck = [(rank, suit) for rank in ranks for suit in suits]\n",
        "\n",
        "# Initialize the player and dealer hands\n",
        "player_hand = []\n",
        "dealer_hand = []\n",
        "\n",
        "# Shuffle the deck\n",
        "random.shuffle(deck)\n",
        "\n",
        "# Deal the initial two cards to the player and dealer\n",
        "for _ in range(2):\n",
        "    player_card = deck.pop()\n",
        "    dealer_card = deck.pop()\n",
        "    player_hand.append(player_card)\n",
        "    dealer_hand.append(dealer_card)\n",
        "\n",
        "# Game loop\n",
        "while True:\n",
        "    print(\"\\n----- Blackjack -----\")\n",
        "    print(f\"Your hand: {display_hand(player_hand)} (Value: {calculate_hand_value(player_hand)})\")\n",
        "    print(f\"Dealer's hand: {display_hand(dealer_hand[0:1])} (Value: {calculate_hand_value(dealer_hand[0:1])})\")\n",
        "\n",
        "    # Check if player or dealer has blackjack\n",
        "    if calculate_hand_value(player_hand) == 21:\n",
        "        print(\"Congratulations! You have Blackjack. You win!\")\n",
        "        break\n",
        "    elif calculate_hand_value(dealer_hand) == 21:\n",
        "        print(\"Dealer has Blackjack. Dealer wins.\")\n",
        "        break\n",
        "\n",
        "    # Player's turn\n",
        "    choice = input(\"Do you want to 'hit' or 'stand'? \").lower()\n",
        "    if choice == 'hit':\n",
        "        player_card = deck.pop()\n",
        "        player_hand.append(player_card)\n",
        "        if calculate_hand_value(player_hand) > 21:\n",
        "            print(\"\\nBusted! You went over 21. Dealer wins.\")\n",
        "            break\n",
        "    elif choice == 'stand':\n",
        "        # Dealer's turn\n",
        "        while calculate_hand_value(dealer_hand) < 17:\n",
        "            dealer_card = deck.pop()\n",
        "            dealer_hand.append(dealer_card)\n",
        "\n",
        "        print(\"\\n----- Dealer's Turn -----\")\n",
        "        print(f\"Your hand: {display_hand(player_hand)} (Value: {calculate_hand_value(player_hand)})\")\n",
        "        print(f\"Dealer's hand: {display_hand(dealer_hand)} (Value: {calculate_hand_value(dealer_hand)})\")\n",
        "\n",
        "if calculate_hand_value(dealer_hand) > 21:\n",
        "        print(\"Dealer busted! You win!\")\n",
        "elif calculate_hand_value(player_hand) > calculate_hand_value(dealer_hand):\n",
        "        print(\"Congratulations! You win!\")\n",
        "elif calculate_hand_value(player_hand) < calculate_hand_value(dealer_hand):\n",
        "        print(\"Dealer wins.\")\n",
        "else:\n",
        "        print(\"It's a tie!\")\n",
        "break\n",
        "else:\n",
        "       print(\"Invalid choice. Please enter 'hit' or 'stand'.\")\n",
        "\n",
        "       print(\"\\nThanks for playing Blackjack!\")\n"
      ],
      "metadata": {
        "colab": {
          "base_uri": "https://localhost:8080/",
          "height": 142
        },
        "id": "WfGjVYyhEVaH",
        "outputId": "1635cbc0-65f1-476f-b3bc-7d97099354b8"
      },
      "execution_count": 21,
      "outputs": [
        {
          "output_type": "error",
          "ename": "IndentationError",
          "evalue": "ignored",
          "traceback": [
            "\u001b[0;36m  File \u001b[0;32m\"<tokenize>\"\u001b[0;36m, line \u001b[0;32m9\u001b[0m\n\u001b[0;31m    return value\u001b[0m\n\u001b[0m    ^\u001b[0m\n\u001b[0;31mIndentationError\u001b[0m\u001b[0;31m:\u001b[0m unindent does not match any outer indentation level\n"
          ]
        }
      ]
    },
    {
      "cell_type": "code",
      "source": [
        "#Que number 40. Write a program that generates the prime factors of a given number using trial division."
      ],
      "metadata": {
        "id": "vN9_gTEMFIpx"
      },
      "execution_count": 22,
      "outputs": []
    },
    {
      "cell_type": "code",
      "source": [
        "def prime_factors(n):\n",
        "    factors = []\n",
        "    divisor = 2\n",
        "\n",
        "    while n > 1:\n",
        "        while n % divisor == 0:\n",
        "            factors.append(divisor)\n",
        "            n //= divisor\n",
        "        divisor += 1\n",
        "\n",
        "    return factors\n",
        "\n",
        "# Input the number for which you want to find prime factors\n",
        "num = int(input(\"Enter a number: \"))\n",
        "\n",
        "if num <= 1:\n",
        "    print(\"Please enter a positive integer greater than 1.\")\n",
        "else:\n",
        "    factors = prime_factors(num)\n",
        "\n",
        "    if len(factors) == 0:\n",
        "        print(f\"{num} has no prime factors other than 1.\")\n",
        "    else:\n",
        "        print(f\"The prime factors of {num} are: {factors}\")\n"
      ],
      "metadata": {
        "colab": {
          "base_uri": "https://localhost:8080/"
        },
        "id": "xHWNGo90GRNn",
        "outputId": "068832ed-d0fc-47c7-e465-45123581693f"
      },
      "execution_count": 24,
      "outputs": [
        {
          "output_type": "stream",
          "name": "stdout",
          "text": [
            "Enter a number: 23\n",
            "The prime factors of 23 are: [23]\n"
          ]
        }
      ]
    },
    {
      "cell_type": "code",
      "source": [],
      "metadata": {
        "id": "imR4yOLPGj17"
      },
      "execution_count": null,
      "outputs": []
    }
  ]
}